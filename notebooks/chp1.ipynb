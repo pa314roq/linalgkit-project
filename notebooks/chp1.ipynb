{
 "cells": [
  {
   "cell_type": "markdown",
   "id": "4cbc8f27",
   "metadata": {},
   "source": [
    "# Chapter 1. Systems, vectors and matrices"
   ]
  },
  {
   "cell_type": "code",
   "execution_count": 2,
   "id": "2a717240",
   "metadata": {},
   "outputs": [],
   "source": [
    "import numpy as np\n",
    "import sys\n",
    "sys.path.append(\"..\")\n",
    "import linalgkit as lak"
   ]
  },
  {
   "cell_type": "markdown",
   "id": "7a4548d9",
   "metadata": {},
   "source": [
    "## Gauss-Jordan method. Rouchè-Frobenious theorem"
   ]
  },
  {
   "cell_type": "markdown",
   "id": "41635fae",
   "metadata": {},
   "source": [
    "Consider a system of $m$ linear equations and $n$ unknowns,\n",
    "$$\n",
    "\\left\\{\n",
    "\\begin{array}{ccccccccc}\n",
    "a_{11} x_1 &+& a_{12} x_2 &+& \\cdots &+& a_{1n} x_n &=& b_1 \\\\\n",
    "a_{21} x_1 &+& a_{22} x_2 &+& \\cdots &+& a_{2n} x_n &=& b_2 \\\\\n",
    "\\vdots     & & \\vdots     & &        & & \\vdots     & & \\vdots \\\\\n",
    "a_{m1} x_1 &+& a_{m2} x_2 &+& \\cdots &+& a_{mn} x_n &=& b_m \\\\\n",
    "\\end{array}\n",
    "\\right.\n",
    "$$\n",
    "There are two matrices associated with a system like the previous one:\n",
    "$$\\begin{array}{cc}\n",
    "\\text{Matriz de coeficientes} & \\text{Matriz ampliada} \\\\[10pt]\n",
    "    \\left(\\begin{array}{cccc}\n",
    "    a_{11} & a_{12} & \\cdots & a_{1n} \\\\\n",
    "    a_{21} & a_{22} & \\cdots & a_{2n} \\\\\n",
    "    \\vdots & \\vdots & \\ddots & \\vdots \\\\\n",
    "    a_{m1} & m_{m2} & \\cdots & a_{mn}\n",
    "    \\end{array}\\right)\n",
    "    &\n",
    "    \\left(\\begin{array}{cccc|c}\n",
    "    a_{11} & a_{12} & \\cdots & a_{1n} & b_1 \\\\\n",
    "    a_{21} & a_{22} & \\cdots & a_{2n} & b_2 \\\\\n",
    "    \\vdots & \\vdots & \\ddots & \\vdots & \\vdots \\\\\n",
    "    a_{m1} & a_{m2} & \\cdots & a_{mn} & b_m\n",
    "    \\end{array}\\right) \n",
    "\\end{array}$$\n",
    "\n",
    "- The _coefficient matrix_ contains only the coefficients of the system.\n",
    "- The _augmented matrix_ contains the coefficients and the independent terms (constants on the other side of the equation).\n",
    "\n",
    "If the augmented matrix of the previous system is,\n",
    "\n",
    "$$\\left(\\begin{array}{cccc|c}\n",
    "    a_{11} & a_{12} & \\cdots & a_{1n} & b_1 \\\\\n",
    "    a_{21} & a_{22} & \\cdots & a_{2n} & b_2 \\\\\n",
    "           &        & \\vdots &        & \\vdots \\\\\n",
    "    a_{m1} & a_{m2} & \\cdots & a_{mn} & b_m\n",
    "\\end{array}\\right)$$\n",
    "\n",
    "\n",
    "> The _Gauss-Jordan reduction method_ (GJ) consists of reducing the augmented matrix of the system to its _reduced row echelon form_ using _elementary row operations_ (operations among the system's equations). From this last matrix, we can directly obtain the solution to the system, if it exists.\n",
    "\n",
    "The reduced row echelon matrix is a matrix with the following characteristics:\n",
    "\n",
    "The reduced row echelon matrix is a matrix with the following characteristics:\n",
    "\n",
    "<p align=\"center\">\n",
    "    <img src=\"../figures/fig_reduced_matrix.svg\" alt=\"Reduced row echelon matrix\" width=20%/>\n",
    "</p>\n",
    "\n",
    "1. Each step has height one.\n",
    "2. All numbers below the steps are zero.\n",
    "3. In every corner of each step, there is a 1.\n",
    "4. Every column containing a step has all its elements zero (except for the step itself, which is 1).\n",
    "\n",
    ">In general, systems can be _consistent_ if they admit at least one solution, or _inconsistent_ if the system has no solution. If they are consistent, they are called _determined_ if they have a unique solution; or _undetermined_ if they have infinitely many solutions.\n",
    "\n",
    "In the study of solutions to a system of equations with $m$ equations and $n$ unknowns, the steps obtained in the coefficient and augmented matrices (when we reduce them) are crucial. Let $A$ be the coefficient matrix of the system and $\\bar{A}$ the augmented matrix. When we reduce the system using GJ, both matrices become row echelon: let $p$ and $\\bar{p}$ be the steps of the reduced coefficient and augmented matrices, respectively. Then, to determine the compatibility of the system, it is only necessary to compare the number of unknowns $n$ with the steps $p$ and $\\bar{p}$:\n",
    "\n",
    "> Rouché–Frobenius Theorem\n",
    ">\n",
    "> Given a system of $m$ equations and $n$ unknowns, we have:\n",
    "> 1. If $n = p = \\bar{p} \\quad \\Leftrightarrow \\quad$ The system is consistent and determined.\n",
    "> 2. If $n > p = \\bar{p} \\quad \\Leftrightarrow \\quad$ The system is consistent and undetermined.\n",
    "> 3. If $p \\neq \\bar{p} \\quad \\Leftrightarrow \\quad$ The system is inconsistent.\n",
    ">\n",
    "The set of elementary operations we perform on the matrix may vary, but the row echelon matrix will always be the same (unique). This leads to multiple ways of reducing a system and, therefore, to multiple algorithms that reduce the matrix using different criteria, even though the same reduction method is followed.\n",
    "\n",
    "The next example will discuss how to reduce a given matrix with the GJ method. We will go through the steps and explain the criteria chosen for the algorithm.\n"
   ]
  },
  {
   "cell_type": "markdown",
   "id": "efb7a358",
   "metadata": {},
   "source": [
    "### Working example"
   ]
  },
  {
   "cell_type": "markdown",
   "id": "c36d2649",
   "metadata": {},
   "source": [
    "Let's start reducing the following matrix:"
   ]
  },
  {
   "cell_type": "code",
   "execution_count": 14,
   "id": "b6cb2776",
   "metadata": {},
   "outputs": [],
   "source": [
    "matrix = np.array([[1, 2, 3, 4, 5],\n",
    "                   [2, 4, 6, 8, 10],\n",
    "                   [3, 8, 9, 12, 18],\n",
    "                   [4, 11, 12, 17, 20]])"
   ]
  },
  {
   "cell_type": "markdown",
   "id": "69c1231c",
   "metadata": {},
   "source": [
    "We have a $4 \\times 5$ matrix from which we want to obtain its reduced row echelon form using Gauss–Jordan elimination (GJ). As previously mentioned, there are multiple ways to reduce a matrix, but the row echelon matrix obtained must be the same for everyone. Let's begin by looking at one of the possible ways to implement the GJ method.\n",
    "\n",
    "First, take a copy of the original matrix on which we will perform elementary row operations:"
   ]
  },
  {
   "cell_type": "code",
   "execution_count": 15,
   "id": "55db737c",
   "metadata": {},
   "outputs": [],
   "source": [
    "# Copy of the matrix and shape\n",
    "A = matrix.astype(float).copy()\n",
    "m, n = matrix.shape"
   ]
  },
  {
   "cell_type": "markdown",
   "id": "38552f0e",
   "metadata": {},
   "source": [
    "where we have changed the matrix datatype in order to perform operations.\n",
    "\n",
    "The GJ method begins by taking the first row of the matrix: the first element of that row will be used to eliminate the elements below it. Let’s call `k` the index of the row we are focusing on, and `l` the index of the column where the first element of row `k` is located. These two indices will define each step of our algorithm."
   ]
  },
  {
   "cell_type": "markdown",
   "id": "fa551807",
   "metadata": {},
   "source": [
    "#### Step `k = l = 0`"
   ]
  },
  {
   "cell_type": "markdown",
   "id": "bd1db2b8",
   "metadata": {},
   "source": [
    "\n",
    "Obviously, at this step, we are taking the first row and column of the matrix, which can be schematically represented as follows:\n",
    "\n",
    "\n",
    "```plaintext\n",
    "            l = 0\n",
    "              |\n",
    "k = 0 ---> [[ 1  2  3  4  5]\n",
    "            [ 2  4  6  8 10]\n",
    "            [ 3  8  9 12 18]\n",
    "            [ 4 11 12 17 20]]\n",
    "```\n",
    "\n",
    "These two indices represent the row `row = A[k, l:]` and the column `col = A[k:, l]` of `A`, which will be useful for the operations we are going to perform:"
   ]
  },
  {
   "cell_type": "code",
   "execution_count": 16,
   "id": "e4f801b1",
   "metadata": {},
   "outputs": [],
   "source": [
    "# Prepare row and column of the matrix\n",
    "k, l = 0, 0\n",
    "col = A[k:, l]\n",
    "row = A[k, l:]"
   ]
  },
  {
   "cell_type": "markdown",
   "id": "f8aab363",
   "metadata": {},
   "source": [
    "> **Note.** It is possible that the first row we take is not very convenient and we may want to pivot with another, more manageable one. In this case, the first row has a 1 in its first element, which is one of the most convenient situations: let’s leave the pivoting problem for a later step.\n",
    "\n",
    "Now let’s perform the elementary row operations. To do this, we need to use the first row to eliminate the coefficients along column `l`. We can do this as follows:"
   ]
  },
  {
   "cell_type": "code",
   "execution_count": 17,
   "id": "987e8bd8",
   "metadata": {},
   "outputs": [
    {
     "name": "stdout",
     "output_type": "stream",
     "text": [
      "Full matrix:\n",
      "[[ 1.  2.  3.  4.  5.]\n",
      " [ 2.  4.  6.  8. 10.]\n",
      " [ 3.  8.  9. 12. 18.]\n",
      " [ 4. 11. 12. 17. 20.]]\n",
      "Block to eliminate:\n",
      "[[ 2.  4.  6.  8. 10.]\n",
      " [ 3.  8.  9. 12. 18.]\n",
      " [ 4. 11. 12. 17. 20.]]\n",
      "First coefficients:\n",
      "[[2.]\n",
      " [3.]\n",
      " [4.]]\n",
      "After the operation:\n",
      "[[1. 2. 3. 4. 5.]\n",
      " [0. 0. 0. 0. 0.]\n",
      " [0. 2. 0. 0. 3.]\n",
      " [0. 3. 0. 1. 0.]]\n"
     ]
    }
   ],
   "source": [
    "print(\"Full matrix:\")\n",
    "print(A)\n",
    "\n",
    "# Indices of the rows to be eliminated\n",
    "idx = np.arange(m)\n",
    "idx = idx[idx != k] # All rows except the one we are focusing on\n",
    "\n",
    "# Subarray and coefficients\n",
    "block = A[idx, l:]  # Subarray of the selected rows\n",
    "coef = block[:, [0]]    # First coefficients of those rows\n",
    "\n",
    "print(\"Block to eliminate:\")\n",
    "print(block)\n",
    "print(\"First coefficients:\")\n",
    "print(coef)\n",
    "\n",
    "# Operation\n",
    "A[idx, l:] = block - coef * row # Elementary row operations\n",
    "\n",
    "print(\"After the operation:\")\n",
    "print(A)"
   ]
  },
  {
   "cell_type": "markdown",
   "id": "eeec89f5",
   "metadata": {},
   "source": [
    "The final print shows that we succeed to eliminate the elements of the first column."
   ]
  },
  {
   "cell_type": "markdown",
   "id": "d8d9e3ef",
   "metadata": {},
   "source": [
    "#### Step `k = l = 1` "
   ]
  },
  {
   "cell_type": "markdown",
   "id": "143b346d",
   "metadata": {},
   "source": [
    "We now move to the second row and column of our matrix (`k = l = 1`). Again, schematically we would have:\n",
    "\n",
    "```plaintext\n",
    "             l = 1\n",
    "               |\n",
    "          [[1. 2. 3. 4. 5.]\n",
    "k = 1 -->  [0. 0. 0. 0. 0.]\n",
    "           [0. 2. 0. 0. 3.]\n",
    "           [0. 3. 0. 1. 0.]]\n",
    "```\n",
    "We take the corresponding row and column:"
   ]
  },
  {
   "cell_type": "code",
   "execution_count": 18,
   "id": "1e7e28f3",
   "metadata": {},
   "outputs": [
    {
     "name": "stdout",
     "output_type": "stream",
     "text": [
      "Row: [0. 0. 0. 0.]\n",
      "Column: [0. 2. 3.]\n"
     ]
    }
   ],
   "source": [
    "k, l = 1, 1\n",
    "col = A[k:, l]\n",
    "row = A[k, l:]\n",
    "\n",
    "print(\"Row:\", row)\n",
    "print(\"Column:\", col)"
   ]
  },
  {
   "cell_type": "markdown",
   "id": "57328b65",
   "metadata": {},
   "source": [
    "The row we are currently at is not suitable for performing operations (it's all zeros), so it will be necessary to pivot rows. The criterion we will use is the following:\n",
    "\n",
    "> Among all the nonzero elements of the column `col = A[k:, l]`, we look for the row that contains the maximum in absolute value, and we pivot this row with row `k`.\n",
    "\n",
    "In our case, the maximum value of the column `col` is `3`, which is found in row `3`, and it should be pivoted with row `k=1`. This can be done as follows:"
   ]
  },
  {
   "cell_type": "code",
   "execution_count": 19,
   "id": "0a57c71c",
   "metadata": {},
   "outputs": [
    {
     "name": "stdout",
     "output_type": "stream",
     "text": [
      "Current row:\n",
      "[0. 0. 0. 0.]\n",
      "Row to pivot with:\n",
      "[3. 0. 1. 0.]\n",
      "Matrix after pivoting:\n",
      "[[1. 2. 3. 4. 5.]\n",
      " [0. 3. 0. 1. 0.]\n",
      " [0. 2. 0. 0. 3.]\n",
      " [0. 0. 0. 0. 0.]]\n"
     ]
    }
   ],
   "source": [
    "# Indices of the nonzero elements\n",
    "nonzero_idx = col.nonzero()[0]\n",
    "\n",
    "# Index of the maximum absolute value in `col`\n",
    "abs_col = np.abs(col)\n",
    "max_nonzero_idx = nonzero_idx[np.argmax(abs_col[abs_col != 0])] \n",
    "\n",
    "# Row of the matrix where that value is found\n",
    "row_idx = max_nonzero_idx + k\n",
    "\n",
    "print(\"Current row:\")\n",
    "print(row)\n",
    "print(\"Row to pivot with:\")\n",
    "print(A[row_idx, l:])\n",
    "\n",
    "# Pivot\n",
    "A[[k, row_idx], l:] = A[[row_idx, k], l:]\n",
    "print(\"Matrix after pivoting:\")\n",
    "print(A)"
   ]
  },
  {
   "cell_type": "markdown",
   "id": "c250872e",
   "metadata": {},
   "source": [
    "Once we have pivoted the rows, it is convenient to turn the first element of row `k` into 1. This is commonly known as _normalization_ of the first element:"
   ]
  },
  {
   "cell_type": "code",
   "execution_count": 20,
   "id": "98ceb44e",
   "metadata": {},
   "outputs": [],
   "source": [
    "# Normalization of the first element\n",
    "A[k, l:] = row / row[0]"
   ]
  },
  {
   "cell_type": "markdown",
   "id": "326b2304",
   "metadata": {},
   "source": [
    "Know we perform matrix operations between rows:"
   ]
  },
  {
   "cell_type": "code",
   "execution_count": 21,
   "id": "dca637fb",
   "metadata": {},
   "outputs": [
    {
     "name": "stdout",
     "output_type": "stream",
     "text": [
      "Full matrix:\n",
      "[[1.         2.         3.         4.         5.        ]\n",
      " [0.         1.         0.         0.33333333 0.        ]\n",
      " [0.         2.         0.         0.         3.        ]\n",
      " [0.         0.         0.         0.         0.        ]]\n",
      "Block to eliminate:\n",
      "[[2. 3. 4. 5.]\n",
      " [2. 0. 0. 3.]\n",
      " [0. 0. 0. 0.]]\n",
      "First coefficients:\n",
      "[[2.]\n",
      " [2.]\n",
      " [0.]]\n",
      "After the operation:\n",
      "[[ 1.          0.          3.          3.33333333  5.        ]\n",
      " [ 0.          1.          0.          0.33333333  0.        ]\n",
      " [ 0.          0.          0.         -0.66666667  3.        ]\n",
      " [ 0.          0.          0.          0.          0.        ]]\n"
     ]
    }
   ],
   "source": [
    "print(\"Full matrix:\")\n",
    "print(A)\n",
    "\n",
    "# Indices of the rows to be eliminated\n",
    "idx = np.arange(m)\n",
    "idx = idx[idx != k] # All rows except the one we are focusing on\n",
    "\n",
    "# Subarray and coefficients\n",
    "block = A[idx, l:]  # Subarray of the selected rows\n",
    "coef = block[:, [0]]    # First coefficients of those rows\n",
    "\n",
    "print(\"Block to eliminate:\")\n",
    "print(block)\n",
    "print(\"First coefficients:\")\n",
    "print(coef)\n",
    "\n",
    "# Operation\n",
    "A[idx, l:] = block - coef * row # Elementary row operations\n",
    "\n",
    "print(\"After the operation:\")\n",
    "print(A)"
   ]
  },
  {
   "cell_type": "markdown",
   "id": "4539807b",
   "metadata": {},
   "source": [
    "#### Step `k = l = 2`"
   ]
  },
  {
   "cell_type": "markdown",
   "id": "e3919304",
   "metadata": {},
   "source": [
    "We move to column and row `k = l = 2`. Schematically, we have:\n",
    "\n",
    "```plaintext\n",
    "                              l = 2\n",
    "                                |\n",
    "     [[ 1.          0.          3.          3.33333333  5.        ]\n",
    "      [ 0.          1.          0.          0.33333333  0.        ]\n",
    "k = 2 [ 0.          0.          0.         -0.66666667  3.        ]\n",
    "      [ 0.          0.          0.          0.          0.        ]]\n",
    "```\n",
    "\n",
    "In this case, the column `col = A[k:, l]` is already full of zeros, so no operation is needed. The next step is to move one unit to the right in the column, without moving from row `k`. Since this is supposed to be an iterative algorithm, at each step we should check if our column is full of zeros:"
   ]
  },
  {
   "cell_type": "code",
   "execution_count": 22,
   "id": "e0661d4f",
   "metadata": {},
   "outputs": [
    {
     "data": {
      "text/plain": [
       "True"
      ]
     },
     "execution_count": 22,
     "metadata": {},
     "output_type": "execute_result"
    }
   ],
   "source": [
    "k, l = 2, 2\n",
    "\n",
    "col = A[k:, l]\n",
    "row = A[k, l:]\n",
    "\n",
    "# Nonzero elements\n",
    "nonzero_idx = col.nonzero()[0]\n",
    "\n",
    "# Check if columns is full of zeros\n",
    "nonzero_idx.size == 0"
   ]
  },
  {
   "cell_type": "markdown",
   "id": "b00ef95e",
   "metadata": {},
   "source": [
    "In the loop we define, this will be checked at each step. If `nonzero_idx.size == 0` holds, we move one unit to the right in the column (`l += 1`) and return to the beginning; otherwise, we continue as before."
   ]
  },
  {
   "cell_type": "markdown",
   "id": "2ee9ba9c",
   "metadata": {},
   "source": [
    "#### Step `k =2, l =3`"
   ]
  },
  {
   "cell_type": "markdown",
   "id": "7c35362b",
   "metadata": {},
   "source": [
    "We are now at row `k = 2` and column `l = 3`:\n",
    "\n",
    "```plaintext\n",
    "                                              l = 3\n",
    "                                                |\n",
    "     [[ 1.          0.          3.          3.33333333  5.        ]\n",
    "      [ 0.          1.          0.          0.33333333  0.        ]\n",
    "k = 2 [ 0.          0.          0.         -0.66666667  3.        ]\n",
    "      [ 0.          0.          0.          0.          0.        ]]\n",
    "\n",
    "```\n",
    "We take the corresponding row and column:"
   ]
  },
  {
   "cell_type": "code",
   "execution_count": 23,
   "id": "3ac0432d",
   "metadata": {},
   "outputs": [
    {
     "name": "stdout",
     "output_type": "stream",
     "text": [
      "Column: [-0.66666667  0.        ]\n",
      "Row: [-0.66666667  3.        ]\n"
     ]
    }
   ],
   "source": [
    "k, l = 2, 3\n",
    "\n",
    "col = A[k:, l]\n",
    "row = A[k, l:]\n",
    "\n",
    "print(\"Column:\", col)\n",
    "print(\"Row:\", row)"
   ]
  },
  {
   "cell_type": "markdown",
   "id": "a55ab73b",
   "metadata": {},
   "source": [
    "In this case, we do not need to pivot the row. Normalizing the row:"
   ]
  },
  {
   "cell_type": "code",
   "execution_count": 24,
   "id": "c65b9b08",
   "metadata": {},
   "outputs": [],
   "source": [
    "# Normalization of the first element\n",
    "A[k, l:] = row / row[0]"
   ]
  },
  {
   "cell_type": "markdown",
   "id": "e46a7061",
   "metadata": {},
   "source": [
    "Performing operations:"
   ]
  },
  {
   "cell_type": "code",
   "execution_count": 25,
   "id": "f6c45581",
   "metadata": {},
   "outputs": [
    {
     "name": "stdout",
     "output_type": "stream",
     "text": [
      "Full matrix:\n",
      "[[ 1.          0.          3.          3.33333333  5.        ]\n",
      " [ 0.          1.          0.          0.33333333  0.        ]\n",
      " [ 0.          0.          0.          1.         -4.5       ]\n",
      " [ 0.          0.          0.          0.          0.        ]]\n",
      "Block to eliminate:\n",
      "[[3.33333333 5.        ]\n",
      " [0.33333333 0.        ]\n",
      " [0.         0.        ]]\n",
      "First coefficients:\n",
      "[[3.33333333]\n",
      " [0.33333333]\n",
      " [0.        ]]\n",
      "After the operation:\n",
      "[[ 1.   0.   3.   0.  20. ]\n",
      " [ 0.   1.   0.   0.   1.5]\n",
      " [ 0.   0.   0.   1.  -4.5]\n",
      " [ 0.   0.   0.   0.   0. ]]\n"
     ]
    }
   ],
   "source": [
    "print(\"Full matrix:\")\n",
    "print(A)\n",
    "\n",
    "# Indices of the rows to be eliminated\n",
    "idx = np.arange(m)\n",
    "idx = idx[idx != k] # All rows except the one we are focusing on\n",
    "\n",
    "# Subarray and coefficients\n",
    "block = A[idx, l:]  # Subarray of the selected rows\n",
    "coef = block[:, [0]]    # First coefficients of those rows\n",
    "\n",
    "print(\"Block to eliminate:\")\n",
    "print(block)\n",
    "print(\"First coefficients:\")\n",
    "print(coef)\n",
    "\n",
    "# Operation\n",
    "A[idx, l:] = block - coef * row # Elementary row operations\n",
    "\n",
    "print(\"After the operation:\")\n",
    "print(A)"
   ]
  },
  {
   "cell_type": "markdown",
   "id": "4d6476c9",
   "metadata": {},
   "source": [
    "The matrix is fully reduced, so we are mostly finished."
   ]
  },
  {
   "cell_type": "markdown",
   "id": "77b52c9b",
   "metadata": {},
   "source": [
    "#### Last step"
   ]
  },
  {
   "cell_type": "markdown",
   "id": "b2647447",
   "metadata": {},
   "source": [
    "Once we have the reduced matrix, we need to count the steps (pivots) of the coefficient and augmented matrices. We can do this by looking at the indices of the nonzero elements remaining in the reduced matrix:"
   ]
  },
  {
   "cell_type": "code",
   "execution_count": 27,
   "id": "9b9c3489",
   "metadata": {},
   "outputs": [
    {
     "name": "stdout",
     "output_type": "stream",
     "text": [
      "3 3\n"
     ]
    }
   ],
   "source": [
    "# Number of steps (pivots) in the augmented matrix\n",
    "aug_s = np.unique(A.nonzero()[0]).size \n",
    "\n",
    "# Number of steps (pivots) in the coefficient matrix\n",
    "coef_s = np.unique(A[:, :-1].nonzero()[0]).size \n",
    "\n",
    "print(aug_s, coef_s)"
   ]
  },
  {
   "cell_type": "markdown",
   "id": "c174b830",
   "metadata": {},
   "source": [
    "Both steps are equal, but less than the number of unknowns (4): the system would be consistent and undetermined."
   ]
  },
  {
   "cell_type": "markdown",
   "id": "c37d79c5",
   "metadata": {},
   "source": [
    "### Fine-tuning Gauss-Jordan Method"
   ]
  },
  {
   "cell_type": "markdown",
   "id": "01cd2de5",
   "metadata": {},
   "source": [
    "The previous steps suffers from the following:\n",
    "\n",
    "> Due to limited float precision when writting a number, it is not a good practice to compare elements of the matrix directly with 0. Instead we should consider introducing some kind of tolerance, so that we can \"set to zero\" the numbers below this value.\n",
    "\n",
    "The tolerance value we should use depends of the data's context. For example, it is not the same matrix data that comes from experimental measures with a certain precision value, to data with no \"experimental\" precision associated but subject to float number precision. Is up to the user to determine which tolerance adjust better to the situation (i.e. the tolerance value that gives better results).\n",
    "\n",
    "Let's call `tol` the _tolerance_ value that allow us to adjust our method. It is direct and simple to introduce a comparison of elements with this value: we just habe to set to zero every element below `tol` on every single `(k, l)` step. In other words, we just have to introduce this line on each step:\n",
    "\n",
    "```python\n",
    "# ---- Rest of code -----\n",
    "\n",
    "A[A <= tol] = 0.\n",
    "\n",
    "#------ Rest of code -----\n",
    "```\n",
    "With all this in mind, we are good to go to see the final implemetation."
   ]
  },
  {
   "cell_type": "markdown",
   "id": "98c94f3f",
   "metadata": {},
   "source": [
    "### Implementation"
   ]
  },
  {
   "cell_type": "markdown",
   "id": "b91e4909",
   "metadata": {},
   "source": [
    "El ejemplo anterior es un caso bastante completo de los pasos que nos podemos encontrar a la hora de reducir una matriz: la implentación es directa si seguimos el procedimiento anterior. \n",
    "\n",
    "En el paquete `linalkit` podemos encontrar la función `gj_reduction` con su código fuente. Este realiza la reducción por GJ sobre una matriz dada. La presentamos a continuación:\n",
    "\n",
    "| **Función**      | **Parámetros**                                                                                                                                   | **Retorno**                                                                                                                                                                                                                                                                      | **Notas**                                                                                                                                                                                                                   |\n",
    "|------------------|--------------------------------------------------------------------------------------------------------------------------------------------------|----------------------------------------------------------------------------------------------------------------------------------------------------------------------------------------------------------------------------------------------------------------------------------|-----------------------------------------------------------------------------------------------------------------------------------------------------------------------------------------------------------------------------|\n",
    "| `gj_reduction`   | - `matrix`: matriz 2D a reducir<br>- `give_syspar`: bool, si es `True` devuelve parámetros del sistema asociado (`False` por defecto)             | - Si `give_syspar` es `False`:<br>&nbsp;&nbsp;• matriz reducida<br>- Si es `True`: una tupla con:<br>&nbsp;&nbsp;• matriz reducida<br>&nbsp;&nbsp;• número de incógnitas<br>&nbsp;&nbsp;• escalones de la matriz aumentada<br>&nbsp;&nbsp;• escalones de la matriz de coeficientes | - La última columna se interpreta como términos independientes si es un sistema de ecuaciones.<br>- Los \"escalones\" ayudan a analizar la compatibilidad del sistema.<br>- Puede usarse con cualquier matriz, no tiene por qué estar asociado a un sistema. |"
   ]
  },
  {
   "cell_type": "markdown",
   "id": "ba474045",
   "metadata": {},
   "source": [
    "Para la misma matriz del ejemplo que hemos estudiado, la función devolvería lo siguiente,"
   ]
  },
  {
   "cell_type": "code",
   "execution_count": null,
   "id": "d977cc2c",
   "metadata": {},
   "outputs": [
    {
     "data": {
      "text/plain": [
       "(array([[ 1. ,  0. ,  3. ,  0. , 20. ],\n",
       "        [ 0. ,  1. ,  0. ,  0. ,  1.5],\n",
       "        [ 0. ,  0. ,  0. ,  1. , -4.5],\n",
       "        [ 0. ,  0. ,  0. ,  0. ,  0. ]]),\n",
       " 4,\n",
       " 3,\n",
       " 3)"
      ]
     },
     "metadata": {},
     "output_type": "display_data"
    }
   ],
   "source": [
    "lak.gj_reduction(matrix, give_syspar=True)"
   ]
  },
  {
   "cell_type": "markdown",
   "id": "e8659b3b",
   "metadata": {},
   "source": [
    "que contiene la matriz reducida, el número de incógnitas del sistema asociado, y los peldaños de la matriz de coeficientes y ampliada."
   ]
  },
  {
   "cell_type": "markdown",
   "id": "52a8db3c",
   "metadata": {},
   "source": [
    "## Dependencia lineal y rango de vectores"
   ]
  },
  {
   "cell_type": "markdown",
   "id": "ee83a0cb",
   "metadata": {},
   "source": [
    "En el contexto de sistemas de ecuaciones lineales y matrices, se suele hablar del concepto de vector. Un _vector_ $\\vec{a}$ representa una lista ordenada de números con la siguiente forma:\n",
    "\n",
    "$$ \\vec{a} = (a_1, a_2, \\dots, a_n) $$\n",
    "\n",
    "- Cada uno de los números que forman el vector $\\vec{a}$ se los llama _componentes_. El valor $a_1$ sería la _primera_ componente; $a_2$ la _segunda_ componente; y así sucesivamente. En este caso $\\vec{a}$ es un vector de $n$ componentes.\n",
    "\n",
    "- Dos vectores $\\vec{a}$ y $\\vec{b}$ de $n$ componentes se dicen que son _iguales_ si son iguales componente a componente. Es decir,\n",
    "$$\\vec{a} = \\vec{b} \\quad \\Leftrightarrow \\quad a_1 = b_1, a_2 = b_2, \\dots, a_n = b_n$$ \n",
    "\n",
    "Sobre los vectores definimos dos operaciones:\n",
    "- **Suma**\n",
    "\n",
    "    Dados dos vectores $\\vec{a} = (a_1, a_2, \\dots, a_n)$ y $\\vec{b} = (b_1, b_2, \\dots, b_n)$, su suma es el vector:\n",
    "\n",
    "    $$\n",
    "    \\vec{a} + \\vec{b} = (a_1 + b_1,\\, a_2 + b_2,\\, \\dots,\\, a_n + b_n)\n",
    "    $$\n",
    "\n",
    "- **Multiplicación por un escalar**\n",
    "\n",
    "    Dado un escalar $\\lambda$ y un vector $\\vec{a} = (a_1, a_2, \\dots, a_n)$, el producto es:\n",
    "\n",
    "    $$\n",
    "    \\lambda \\vec{a} = (\\lambda a_1,\\, \\lambda a_2,\\, \\dots,\\, \\lambda a_n)\n",
    "    $$\n",
    "\n",
    "Estas dos operaciones cumplen todas estas propiedades relacionadas con la asociatividad y distribución:\n",
    "\n",
    "| Propiedad                                         | Expresión matemática                                      | Nombre/Descripción                                 |\n",
    "|---------------------------------------------------|----------------------------------------------------------|----------------------------------------------------|\n",
    "| Asociatividad de la suma                          | $\\vec{a} + (\\vec{b} + \\vec{c}) = (\\vec{a} + \\vec{b}) + \\vec{c}$ | La suma de vectores es asociativa                  |\n",
    "| Conmutatividad de la suma                         | $\\vec{a} + \\vec{b} = \\vec{b} + \\vec{a}$                 | La suma de vectores es conmutativa                 |\n",
    "| Elemento neutro de la suma                        | $\\vec{a} + \\vec{0} = \\vec{a}$                           | Existe un vector nulo que no altera la suma        |\n",
    "| Elemento opuesto                                  | $\\vec{a} + (-\\vec{a}) = \\vec{0}$                        | Todo vector tiene opuesto aditivo                  |\n",
    "| Asociatividad de la multiplicación por escalar    | $\\lambda(\\mu\\vec{a}) = (\\lambda\\mu)\\vec{a}$              | Multiplicar por escalares es asociativo            |\n",
    "| Elemento neutro de la multiplicación por escalar  | $1\\cdot\\vec{a} = \\vec{a}$                               | El 1 es neutro para la multiplicación por escalar  |\n",
    "| Distributividad respecto suma de vectores         | $\\lambda(\\vec{a} + \\vec{b}) = \\lambda\\vec{a} + \\lambda\\vec{b}$ | Multiplicar suma de vectores distribuye el escalar |\n",
    "| Distributividad respecto suma de escalares        | $(\\lambda + \\mu)\\vec{a} = \\lambda\\vec{a} + \\mu\\vec{a}$  | Sumar escalares y multiplicar distribuye el vector |\n",
    "\n",
    "Los vectores se pueden encontrar, por ejemplo, en las filas y columnas de una matriz. Dada una matriz $A$ de tamaño $m \\times n$ de la forma \n",
    "\n",
    "$$\n",
    "A = \\begin{pmatrix}\n",
    "a_{11} & a_{12} & \\cdots & a_{1n} \\\\\n",
    "a_{21} & a_{22} & \\cdots & a_{2n} \\\\\n",
    "\\vdots & \\vdots & \\ddots & \\vdots \\\\\n",
    "a_{m1} & a_{m2} & \\cdots & a_{mn}\n",
    "\\end{pmatrix}\n",
    "$$\n",
    "\n",
    "sus filas y columnas forman vectores de $n$ y $m$ componentes, respectivamente. Los vectores fila podemos denotarlos como:\n",
    "$$ \n",
    "\\begin{aligned}\n",
    "    &\\vec{f}_1 = \\begin{pmatrix} a_{11} & a_{12} & \\dots & a_{1n} \\end{pmatrix} \\\\\n",
    "    &\\vec{f}_2 = \\begin{pmatrix} a_{21} & a_{22} & \\dots & a_{2n} \\end{pmatrix} \\\\\n",
    "    & \\qquad \\qquad \\qquad \\vdots \\\\\n",
    "    &\\vec{f}_m = \\begin{pmatrix} a_{m1} & a_{m2} & \\dots & a_{mn} \\end{pmatrix}\n",
    "\\end{aligned}\n",
    "$$\n",
    "y los vectores columna como:\n",
    "$$\n",
    "\\vec{c}_1 = \\begin{pmatrix} a_{11} \\\\ a_{21} \\\\ \\vdots \\\\ a_{m1} \\end{pmatrix}, \\quad\n",
    "\\vec{c}_2 = \\begin{pmatrix} a_{12} \\\\ a_{22} \\\\ \\vdots \\\\ a_{m2} \\end{pmatrix}, \\quad\n",
    "\\cdots, \\quad\n",
    "\\vec{c}_n = \\begin{pmatrix} a_{1n} \\\\ a_{2n} \\\\ \\vdots \\\\ a_{mn} \\end{pmatrix}\n",
    "$$\n",
    "\n",
    "También veremos que la solución de un sistema de ecuaciones se puede dar en notación vectorial.\n",
    "\n",
    "Con todo esto en mente, podemos pasar a estudiar el concepto de dependencia lineal y rango entre vectores."
   ]
  },
  {
   "cell_type": "markdown",
   "id": "d144a3bb",
   "metadata": {},
   "source": [
    "### Dependencia lineal"
   ]
  },
  {
   "cell_type": "markdown",
   "id": "6c76cbb2",
   "metadata": {},
   "source": [
    "Consideremos un conjunto de $n$ vectores $\\left\\{ \\vec{a}_i \\right\\}_{i=1}^n$ de $m$ componentes. Decimos que realizamos una _combinación lineal_ de los vectores si tenemos una expresión de la forma\n",
    "$$c_1 \\vec{a}_1 + c_2 \\vec{a}_2 + \\cdots + c_n \\vec{a}_n, \\quad c_i \\in \\mathbb{R}\\ (i=1,\\dots,n)$$\n",
    "que no es más que una operación combinada de los vectores dados que nos genera un nuevo vector.\n",
    "\n",
    "En este mismo contexto, normalemente encontramos dos situaciones para nuestro conjunto de vectores.\n",
    "\n",
    "> 1. Dependencia lineal\n",
    ">\n",
    ">     Un conjunto de vectores $\\left\\{ \\vec{a}_i \\right\\}_{i=1}^n$ se dice _linealmente dependiente_ si existen $n$ valores reales $c_i$ (no todos nulos) tales que \n",
    "> $$c_1 \\vec{a}_1 + c_2 \\vec{a}_2 + \\cdots + c_n \\vec{a}_n = \\vec{0}$$\n",
    ">\n",
    "> 2. Independencia lineal\n",
    ">\n",
    ">       Un conjunto de vectores $\\left\\{ \\vec{a}_i \\right\\}_{i=1}^n$ se dice _linealmente independiente_ si no es linealmente dependiente. Es decir,\n",
    "> $$\\text{Si}\\quad c_1 \\vec{a}_1 + c_2 \\vec{a}_2 + \\cdots + c_n \\vec{a}_n = \\vec{0} \\quad \\Rightarrow \\quad c_i=0 \\quad \\forall i=1,\\dots,n$$\n",
    "\n",
    "Comprobar si un conjunto de vectores es linealmente dependiente o no es bastante directo según esta definición. Para un conjunto de $n$ vectores de $m$ componentes:\n",
    "\n",
    "1. **Planteamos la condición de dependencia lineal**\n",
    "\n",
    "    Esto sería, plantear una combinación lineal nula de los vectores como\n",
    "    $$c_1 \\vec{a}_1 + c_2 \\vec{a}_2 + c_3 \\vec{a}_3 + \\cdots + c_n \\vec{a}_n = \\vec{0}$$\n",
    "    A partir de aquí, es más conveniente escribir todo en notación matricial. De esta forma, lo anterior equivale a escribir:\n",
    "    $$\n",
    "    c_1\n",
    "    \\begin{pmatrix}\n",
    "    a_{11} \\\\ a_{21} \\\\ \\vdots \\\\ a_{m1}\n",
    "    \\end{pmatrix}\n",
    "    + c_2\n",
    "    \\begin{pmatrix}\n",
    "    a_{12} \\\\ a_{22} \\\\ \\vdots \\\\ a_{m2}\n",
    "    \\end{pmatrix}\n",
    "    + \\cdots +\n",
    "    c_n\n",
    "    \\begin{pmatrix}\n",
    "    a_{1n} \\\\ a_{2n} \\\\ \\vdots \\\\ a_{mn}\n",
    "    \\end{pmatrix}\n",
    "    =\n",
    "    \\begin{pmatrix}\n",
    "    c_1 a_{11} + c_2 a_{12} + \\cdots + c_n a_{1n} \\\\\n",
    "    c_1 a_{21} + c_2 a_{22} + \\cdots + c_n a_{2n} \\\\\n",
    "    \\vdots \\\\\n",
    "    c_1 a_{m1} + c_2 a_{m2} + \\cdots + c_n a_{mn}\n",
    "    \\end{pmatrix}\n",
    "    =\n",
    "    \\begin{pmatrix}\n",
    "    0 \\\\ 0 \\\\ \\vdots \\\\ 0\n",
    "    \\end{pmatrix}\n",
    "    $$\n",
    "    igualando componente a componente, esto resulta en un sistema homogéneo de $m$ ecuaciones y $n$ incógnitas (los valores $c_i$):\n",
    "    $$\n",
    "    \\begin{cases}\n",
    "    a_{11} c_1 + a_{12} c_2 + \\cdots + a_{1n} c_n = 0 \\\\\n",
    "    a_{21} c_1 + a_{22} c_2 + \\cdots + a_{2n} c_n = 0 \\\\\n",
    "    \\qquad \\qquad \\qquad \\quad \\vdots \\\\\n",
    "    a_{m1} c_1 + a_{m2} c_2 + \\cdots + a_{mn} c_n = 0\n",
    "    \\end{cases}\n",
    "    $$\n",
    "\n",
    "2. **Reducimos el sistema**\n",
    "\n",
    "    La matriz del sistema anterior es fácil de obtener directamente. Obsérvese que tan solo basta colocar los vectores $\\vec{a}_i$ en columnas, de modo que tendríamos que reducir la matriz\n",
    "    $$\n",
    "    \\begin{pmatrix}\n",
    "    a_{11} & a_{12} & \\cdots & a_{1n} \\\\\n",
    "    a_{21} & a_{22} & \\cdots & a_{2n} \\\\\n",
    "    \\vdots & \\vdots &        & \\vdots \\\\\n",
    "    a_{m1} & a_{m2} & \\cdots & a_{mn}\n",
    "    \\end{pmatrix}\n",
    "    $$\n",
    "     Aquí podemos tener solo dos casos posibles:\n",
    "\n",
    "    - El sistema es compatible determinado. En este caso la única solución es que todos los $c_i$ son nulos.\n",
    "\n",
    "    - El sistema es compatible indeterminado. Existen soluciones no nulas para los coeficientes $c_i$.\n",
    "\n",
    "3. **Interpretación/Conclusión**\n",
    "\n",
    "    - Si el sistema es determinado con solución $c_i=0$, esto quiere decir que los vectores son linealmente independientes.\n",
    "\n",
    "    - Si el sistema es indeterminado, existen soluciones no nulas para los $c_i$, en cuyo caso los vectores serían linealmente dependientes.\n",
    "\n",
    "Este razonamiento sugiere volver a usar la función `gj_reduction` para simplemente distinguir si el sistema generado por los vectores es compatible determinado o no. El siguiente ejemplo sirve para aclarar las intenciones mencionadas"
   ]
  },
  {
   "cell_type": "code",
   "execution_count": 16,
   "id": "6e7d71ed",
   "metadata": {},
   "outputs": [],
   "source": [
    "# Conjunto de 4 vectores linealmente dependientes\n",
    "v1 = np.array([1, 2, 3])\n",
    "v2 = np.array([2, 4, 6])\n",
    "v3 = np.array([3, 6, 9])\n",
    "v4 = np.array([4, 5, 6])\n",
    "\n",
    "vectors_set = (v1, v2, v3, v4)"
   ]
  },
  {
   "cell_type": "markdown",
   "id": "397c2d90",
   "metadata": {},
   "source": [
    "Lo anterior se trata de un conjunto de cuatro vectores linelmente dependientes. Para comprobar esto construimos la matriz asociada al sistema generado por los vectores:"
   ]
  },
  {
   "cell_type": "code",
   "execution_count": 17,
   "id": "747c4c86",
   "metadata": {},
   "outputs": [
    {
     "data": {
      "text/plain": [
       "array([[1., 2., 3., 4.],\n",
       "       [2., 4., 6., 5.],\n",
       "       [3., 6., 9., 6.]])"
      ]
     },
     "execution_count": 17,
     "metadata": {},
     "output_type": "execute_result"
    }
   ],
   "source": [
    "# Matriz con los vectores en columnas\n",
    "n = len(vectors_set)\n",
    "m = len(v1)\n",
    "\n",
    "matrix = np.empty((m, n))\n",
    "\n",
    "k = 0\n",
    "for v in vectors_set:\n",
    "    matrix[:, k] = v\n",
    "    k += 1\n",
    "\n",
    "matrix"
   ]
  },
  {
   "cell_type": "markdown",
   "id": "16bdc865",
   "metadata": {},
   "source": [
    "Finalmente aplicamos la función `gj_reduction` para estudiar la solución del sistema:"
   ]
  },
  {
   "cell_type": "code",
   "execution_count": 18,
   "id": "803c6b86",
   "metadata": {},
   "outputs": [
    {
     "data": {
      "text/plain": [
       "(array([[1., 2., 3., 0.],\n",
       "        [0., 0., 0., 1.],\n",
       "        [0., 0., 0., 0.]]),\n",
       " 3,\n",
       " 2,\n",
       " 1)"
      ]
     },
     "execution_count": 18,
     "metadata": {},
     "output_type": "execute_result"
    }
   ],
   "source": [
    "lak.gj_reduction(matrix, give_syspar=True)"
   ]
  },
  {
   "cell_type": "markdown",
   "id": "8982dce7",
   "metadata": {},
   "source": [
    "Aquí tenemos que tener en cuenta un pequeño detalle: la función está pensada para que se le introduzcan la matriz ampliada del sistema, y nosotros solo hemos introducido la matriz de coeficientes. Esto no supone ningún problema en la reducción final, porque el sistema de los vectores es homogéneo, y la última columna es de ceros. Sin embargo, ahora el número de peldaños que nos interesa es el de la matriz completa (la expandida); es decir, tenemos que fijarnos en el valor de `aug_s` y compararlo con `unknowns + 1`. El valor de `coef_s` no tiene ningún sentido en este caso.\n",
    "\n",
    "Por esto mismo, para no andar con esta disticción, mejor introducimos una columna de ceros en nuestra matriz del sistema, para que los valores de la función tengan todos el sentido que les corresponde."
   ]
  },
  {
   "cell_type": "code",
   "execution_count": 19,
   "id": "62b44d78",
   "metadata": {},
   "outputs": [
    {
     "data": {
      "text/plain": [
       "array([[1., 2., 3., 4., 0.],\n",
       "       [2., 4., 6., 5., 0.],\n",
       "       [3., 6., 9., 6., 0.]])"
      ]
     },
     "execution_count": 19,
     "metadata": {},
     "output_type": "execute_result"
    }
   ],
   "source": [
    "matrix = np.hstack((matrix, np.zeros(m)[:, np.newaxis]))\n",
    "matrix"
   ]
  },
  {
   "cell_type": "code",
   "execution_count": 21,
   "id": "c5f151b8",
   "metadata": {},
   "outputs": [
    {
     "data": {
      "text/plain": [
       "(array([[ 1.,  2.,  3.,  0.,  0.],\n",
       "        [ 0.,  0.,  0.,  1., -0.],\n",
       "        [ 0.,  0.,  0.,  0.,  0.]]),\n",
       " 4,\n",
       " 2,\n",
       " 2)"
      ]
     },
     "execution_count": 21,
     "metadata": {},
     "output_type": "execute_result"
    }
   ],
   "source": [
    "lak.gj_reduction(matrix, give_syspar=True)"
   ]
  },
  {
   "cell_type": "markdown",
   "id": "fa61921d",
   "metadata": {},
   "source": [
    "Ahora sí el número de peldaños `exp_s` y `coef_s` coinciden, como debería ser (los sistemas homogéneos son siempre compatibles). Queda entonces comparar el número de incógnitas con los peldaños: en nuestro caso, $4 = n > p = 2$, y el sistema es indeterminado. Concluimos que los vectores son linealmente dependientes.\n",
    "\n",
    "La siguiente función verifica la dependencia lineal de un conjunto de vectores siguiendo el razonamiento anterior:"
   ]
  },
  {
   "cell_type": "markdown",
   "id": "ccba695b",
   "metadata": {},
   "source": [
    "Para el mismo ejemplo anterior tendríamos:"
   ]
  },
  {
   "cell_type": "code",
   "execution_count": null,
   "id": "586d0e41",
   "metadata": {},
   "outputs": [
    {
     "name": "stdout",
     "output_type": "stream",
     "text": [
      "Linearly dependent set\n"
     ]
    }
   ],
   "source": [
    "# Conjunto de 4 vectores linealmente dependientes\n",
    "v1 = np.array([1, 2, 3])\n",
    "v2 = np.array([2, 4, 6])\n",
    "v3 = np.array([3, 6, 9])\n",
    "v4 = np.array([4, 5, 6])\n",
    "\n",
    "vectors_set = (v1, v2, v3, v4)\n",
    "\n",
    "check_ld(*vectors_set)"
   ]
  },
  {
   "cell_type": "markdown",
   "id": "9c9a2fb0",
   "metadata": {},
   "source": [
    "### Rango de un conjunto de vectores"
   ]
  },
  {
   "cell_type": "markdown",
   "id": "68b63417",
   "metadata": {},
   "source": [
    "El siguiente paso natural después de estudiar la dependencia lineal entre vectores es decir cúantos y cuales de ellos son linealmente independientes. Así, tendremos toda la información sobre el conjunto: unos vectores serán independientes y otros estarán generados por los anteriores.\n",
    "\n",
    "Esto que queremos estudiar es, precisamente, el concepto de rango.\n",
    "\n",
    "> Rango de un conjunto de vectores\n",
    ">\n",
    "> Dado un conjunto de $n$ vectores de $m$ componentes $S = \\left\\{\\vec{a}_i\\right\\}_{i=1}^n$, llamamos _rango del conjunto de vectores_, y lo denotamos por $r(S)$, al máximo número de ellos linealmente independiente.\n",
    "\n",
    "¿Cómo encontramos el rango de un conjunto de vectores? En el apartado anterior ya vimos cómo estuiar la dependencia de un conjunto de vectores, para ello habia que:\n",
    "\n",
    "- Escribir la matriz generada por los vectores.\n",
    "- Reducir la matriz anterior.\n",
    "- Estudiar la compatibilidad y dar la conclusión.\n",
    "\n",
    "Si hacemos esto para todos los subconjuntos de vectores que podemos formar, encontraríamos finalmente el rango. Esto puede ser bastante largo incluso para conjuntos relativamente pequeños. Afortunadamente, ahora veremos que solo es necesario estudiar la dependencia del conjunto completo una única vez.\n",
    "\n",
    "Empecemos considerando la matriz formada por el conjunto de vectores (cuando planteamos la dependencia lineal con todos ellos)\n",
    "$$\n",
    "\\begin{pmatrix}\n",
    "a_{11} & a_{12} & \\cdots & a_{1n} \\\\\n",
    "a_{21} & a_{22} & \\cdots & a_{2n} \\\\\n",
    "\\vdots & \\vdots &        & \\vdots \\\\\n",
    "a_{m1} & a_{m2} & \\cdots & a_{mn}\n",
    "\\end{pmatrix}\n",
    "$$\n",
    "Según lo que hemos dicho antes, tendríamos que proceder de la siguiente forma:\n",
    "\n",
    "- Reducir la matriz completa\n",
    "    - Si es determinada, el rango es $n$\n",
    "    - Si es indeterminada, el rango es menor a $n$ y pasamos al siguiente paso.\n",
    "- Reducir todas las submatrices de $n-1$ vectores\n",
    "    - Si alguna de ellas es determinada, el rango es $n-1$\n",
    "    - Si es indeterminada, el rango es menor a $n-1$ y pasamos el siguiente paso.\n",
    "- Repetimos indefinidamente este proceso hasta obtener el primer subconjunto que sea linealmente independiente.\n",
    "\n",
    "Todo este proceso se puede realizar solo con reducir la matriz completa. La clave en este asunto está en darse cuenta que las operaciones que hayamos realizado sobre la matriz completa son las mismas que tendremos que hacer sobre cualquier subconjunto que consideremos de la matriz. Por tanto, si queremos conocer la matriz reducida de un determinado subconjunto de vectores, tan solo habría que buscar las columnas asociadas a esos vectores en la matriz reducida completa: con un vistazo veríamos si esos vectores producen un sistema determinado o indeterminado.\n",
    "\n",
    "Si hechamos un vistazo a la matriz reducida completa\n",
    "\n",
    "<p align=\"center\">\n",
    "    <img src=\"fig_reduced_matrix.svg\" alt=\"Matriz escalonada reducida\" width=20%/>\n",
    "</p>\n",
    "\n",
    "podemos ver directamente que si escogemos los vectores (columnas) que forman los peldaños de la matriz, obtenemos directamente un sistema determinado: esos vectores serían linealmente independientes. Este subjconjunto no sería el único linealmente independiente, podemos dar más vectores que generen un sistema determinado, pero como máximo el rango que obtendremos será igual al número de peldaños de la matriz.\n",
    "\n",
    "> El rango de un conjunto de vectores coincide con el número de peldaños que tiene la matriz reducida generada pos esos vectores.\n",
    "\n",
    "- Los vectores independientes se obtienen escogiendo las columnas de la matriz reducida que generan un sistema determinado. En concreto, el conjunto más sencillo linealmente independiente está formado por los vectores (columnas) que continen los peldaños de la matriz reducida.\n",
    "\n",
    "Ya tenemos el procedimiento a seguir para obtener el rango de un conjunto de vectores y un subconjunto linealmente independiente. Consideremos el siguiente ejemplo."
   ]
  },
  {
   "cell_type": "code",
   "execution_count": null,
   "id": "ca0f5cc9",
   "metadata": {},
   "outputs": [],
   "source": [
    "# Conjunto de 4 vectores linealmente dependientes\n",
    "v1 = np.array([1, 2, 3])\n",
    "v2 = np.array([2, 4, 6])\n",
    "v3 = np.array([3, 6, 9])\n",
    "v4 = np.array([4, 5, 6])\n",
    "\n",
    "vectors_set = (v1, v2, v3, v4)"
   ]
  },
  {
   "cell_type": "markdown",
   "id": "83f4b8b3",
   "metadata": {},
   "source": [
    "Ya comprobamos en el apartado anterior que este conjunto de vectores es linealmente dependiente:"
   ]
  },
  {
   "cell_type": "code",
   "execution_count": null,
   "id": "63c0a30e",
   "metadata": {},
   "outputs": [
    {
     "name": "stdout",
     "output_type": "stream",
     "text": [
      "Linearly dependent set\n"
     ]
    }
   ],
   "source": [
    "check_ld(*vectors_set)"
   ]
  },
  {
   "cell_type": "markdown",
   "id": "9035dd50",
   "metadata": {},
   "source": [
    "Ahora queremos obtener el rango de este conjunto y un subconjunto linealmente independiente. Para esto podemos usar de nuevo la información que nos proporciona la función `gj_reduction`:\n",
    "\n",
    "- De la matriz reducida obtenemos el número de peldaños, que sería el rango.\n",
    "- De la matriz reducida también podemos obtener las columnas que continen los peldaños.\n",
    "\n",
    "Veamos cómo se realiza esto:"
   ]
  },
  {
   "cell_type": "code",
   "execution_count": null,
   "id": "89608ba1",
   "metadata": {},
   "outputs": [
    {
     "name": "stdout",
     "output_type": "stream",
     "text": [
      "Sistema generado por los vectores: \n",
      " [[1. 2. 3. 4. 0.]\n",
      " [2. 4. 6. 5. 0.]\n",
      " [3. 6. 9. 6. 0.]]\n",
      "Sistema reducido: \n",
      " [[ 1.  2.  3.  0.  0.]\n",
      " [ 0.  0.  0.  1. -0.]\n",
      " [ 0.  0.  0.  0.  0.]]\n",
      "Rango: 2\n",
      "Conjunto independiente: \n",
      " (array([1, 2, 3]), array([4, 5, 6]))\n"
     ]
    }
   ],
   "source": [
    "# Construimos el sistema homogéneo generado por los vectores\n",
    "m, n = len(vectors_set[0]), len(vectors_set)\n",
    "matrix = np.zeros((m, n+1))\n",
    "for k, v in enumerate(vectors_set):\n",
    "    matrix[:, k] = v\n",
    "print(\"Sistema generado por los vectores: \\n\", matrix)\n",
    "\n",
    "# Reducimos el sistema por GJ\n",
    "A, unknows, stairs, s = gj_reduction(matrix)\n",
    "print(\"Sistema reducido: \\n\", A)\n",
    "\n",
    "# 1. Guardamos el valor del rango\n",
    "\n",
    "r = stairs\n",
    "\n",
    "# 2. Buscamos las columnas que continen los peldaños\n",
    "\n",
    "nonzero_idx = np.asarray(A.nonzero())\n",
    "stairs_idx = np.array([nonzero_idx[1, 0]] + [ \n",
    "    nonzero_idx[1, k+1]\n",
    "    for k in range(len(nonzero_idx[0]) - 1)\n",
    "    if nonzero_idx[0][k+1] != nonzero_idx[0][k]\n",
    "    ])  # Identificamos cuando cambia el índice de las filas para guardar el de las columnas\n",
    "\n",
    "# 3. Damos el conjunto de vectores linealmente independiente\n",
    "indp_set = np.asarray(vectors_set)[stairs_idx]\n",
    "indp_set = tuple(indp_set)\n",
    "\n",
    "print(\"Rango:\", r)\n",
    "print(\"Conjunto independiente: \\n\", indp_set)"
   ]
  },
  {
   "cell_type": "markdown",
   "id": "b2e560d6",
   "metadata": {},
   "source": [
    "Definamos la función que sigue este procedimiento:"
   ]
  },
  {
   "cell_type": "code",
   "execution_count": null,
   "id": "e2c61193",
   "metadata": {},
   "outputs": [],
   "source": [
    "def vectors_range(*vectors_set: np.ndarray, give_set: bool=False) -> tuple:\n",
    "    \"\"\"\n",
    "    Gives the range of a given vector set, i.e. the maximum number of independent \n",
    "    vectors. If specified, it also gives an independent subset of vectors of size\n",
    "    equal the range of the set.\n",
    "\n",
    "    Parameters\n",
    "    ----------\n",
    "    `vectors_set`: array_like\n",
    "        1D arrays with the vectors we want to study\n",
    "\n",
    "    `give_set`: bool\n",
    "        If set to True, it gives an independent subset of vector of size equal the\n",
    "        range of the set. Default False.\n",
    "\n",
    "    Returns\n",
    "    -------\n",
    "    A tuple with the following elements:\n",
    "\n",
    "    `r`: int\n",
    "        The range value of the vectors set.\n",
    "\n",
    "    `indp_set`: tuple\n",
    "        A tuple with the independent subset of vectors of size equal the range.\n",
    "    \"\"\"\n",
    "\n",
    "    # We build the homogeneous system generated by the vectors set\n",
    "    m, n = len(vectors_set[0]), len(vectors_set)\n",
    "    matrix = np.zeros((m, n+1))\n",
    "    for k, v in enumerate(vectors_set):\n",
    "        matrix[:, k] = v\n",
    "\n",
    "    # Reduce the matrix\n",
    "    A, unknows, stairs, s = gj_reduction(matrix)\n",
    "\n",
    "    # 1. Save range value\n",
    "\n",
    "    r = stairs\n",
    "\n",
    "    # 2. Stairs's columns\n",
    "\n",
    "    nonzero_idx = np.asarray(A.nonzero())\n",
    "    stairs_idx = np.array([nonzero_idx[1, 0]] + [ \n",
    "        nonzero_idx[1, k+1]\n",
    "        for k in range(len(nonzero_idx[0]) - 1)\n",
    "        if nonzero_idx[0][k+1] != nonzero_idx[0][k]\n",
    "        ])  \n",
    "\n",
    "    # 3. Indpendent set if needed\n",
    "    if give_set == True:\n",
    "        indp_set = np.asarray(vectors_set)[stairs_idx]\n",
    "        indp_set = tuple(indp_set)\n",
    "        return r, indp_set\n",
    "    else:\n",
    "        return r"
   ]
  },
  {
   "cell_type": "markdown",
   "id": "809c88a1",
   "metadata": {},
   "source": [
    "Aplicado al mismo ejemplo anterior obtenemos:"
   ]
  },
  {
   "cell_type": "code",
   "execution_count": null,
   "id": "91c4ca71",
   "metadata": {},
   "outputs": [
    {
     "data": {
      "text/plain": [
       "(2, (array([1, 2, 3]), array([4, 5, 6])))"
      ]
     },
     "metadata": {},
     "output_type": "display_data"
    }
   ],
   "source": [
    "vectors_range(*vectors_set, give_set=True)"
   ]
  },
  {
   "cell_type": "markdown",
   "id": "ffef6ce1",
   "metadata": {},
   "source": [
    "### Rango de una matriz"
   ]
  },
  {
   "cell_type": "markdown",
   "id": "c6757af2",
   "metadata": {},
   "source": [
    "Pasemos ahora a específicar qué es el rango de una matriz.\n",
    "\n",
    "> Rango de una matriz\n",
    "> \n",
    "> El _rango de una matriz_ $A$, denotado por $r(A)$, es el rango de sus vectores columna.\n",
    "\n",
    "Por tanto, podemos utilizar todo lo aprendido en el apartado anterior para calcular el rango de una matriz. Tan solo habría que aplicarlo a sus vectores columna.\n",
    "\n",
    "Consideremos la siguiente matriz:"
   ]
  },
  {
   "cell_type": "code",
   "execution_count": null,
   "id": "365b33a4",
   "metadata": {},
   "outputs": [
    {
     "data": {
      "text/plain": [
       "array([[1, 2, 3, 4],\n",
       "       [0, 1, 1, 1],\n",
       "       [1, 4, 5, 6]])"
      ]
     },
     "metadata": {},
     "output_type": "display_data"
    }
   ],
   "source": [
    "matrix = np.array([[1, 2, 3, 4],\n",
    "                   [0, 1, 1, 1],\n",
    "                   [1, 4, 5, 6]])\n",
    "matrix"
   ]
  },
  {
   "cell_type": "markdown",
   "id": "d76095f2",
   "metadata": {},
   "source": [
    "Tomemos sus vectores columna y planteemos su dependencia lineal a través de su sistema homogéneo asociado. En este caso, los vectores ya están en columnas!! Solo queda reducir la matriz y dar el valor del rango:"
   ]
  },
  {
   "cell_type": "code",
   "execution_count": null,
   "id": "92ec9205",
   "metadata": {},
   "outputs": [
    {
     "name": "stdout",
     "output_type": "stream",
     "text": [
      "Matriz reducida: \n",
      " [[1. 0. 1. 2. 0.]\n",
      " [0. 1. 1. 1. 0.]\n",
      " [0. 0. 0. 0. 0.]]\n",
      "Rango: 2\n"
     ]
    }
   ],
   "source": [
    "m, n = matrix.shape\n",
    "matrix = np.hstack((matrix, np.zeros(m)[:, np.newaxis]))\n",
    "A, unknows, stairs, s = gj_reduction(matrix)\n",
    "print(\"Matriz reducida: \\n\", A)\n",
    "\n",
    "# Rango\n",
    "r = stairs\n",
    "\n",
    "print(\"Rango:\", r)"
   ]
  },
  {
   "cell_type": "markdown",
   "id": "accf1f36",
   "metadata": {},
   "source": [
    "También podemos dar una submatriz cuyo rango sea el anterior tomando las columnas de los peldaños:"
   ]
  },
  {
   "cell_type": "code",
   "execution_count": null,
   "id": "bb5f65e7",
   "metadata": {},
   "outputs": [
    {
     "data": {
      "text/plain": [
       "array([[1., 2.],\n",
       "       [0., 1.],\n",
       "       [1., 4.]])"
      ]
     },
     "metadata": {},
     "output_type": "display_data"
    }
   ],
   "source": [
    "nonzero_idx = np.asarray(A.nonzero())\n",
    "stairs_idx = np.array([nonzero_idx[1, 0]] + [ \n",
    "    nonzero_idx[1, k+1]\n",
    "    for k in range(len(nonzero_idx[0]) - 1)\n",
    "    if nonzero_idx[0][k+1] != nonzero_idx[0][k]\n",
    "    ])\n",
    "\n",
    "submatrix = matrix[:, stairs_idx]\n",
    "submatrix"
   ]
  },
  {
   "cell_type": "markdown",
   "id": "9b6909c2",
   "metadata": {},
   "source": [
    "En el contexto de rango de matrices, sin embargo, es más común hablar del rango de los vectores fila de una matriz, porque suelen representar sistemas de ecuaciones para los que queremos saber cuales son linealmente independientes. Casualmente, da igual si calculas el rango de las filas o las columnas de una matriz, porque acabas obteniendo el mismo número.\n",
    "\n",
    "> El rango de los vectores fila de una matriz coincide con el rango de los vectores columna.\n",
    "\n",
    "Sin entrar en mucho más detalle, pensar que cuando estudiamos el rango de los vectores columna, y reducimos la matriz, estamos realizando operaciones elementales entre las filas: estos son, combinaciones lineales de las filas. Algunas de ellas se anulan (filas dependientes), mientras que otras sobreviven (filas independientes) formando los peldaños de la matriz reducida. Es por esto que acabamos obteniendo el mismo rango que los vectores columna.\n",
    "\n",
    "Por completitud, demos ahora la función que calcula el rango de una matriz:"
   ]
  },
  {
   "cell_type": "code",
   "execution_count": null,
   "id": "c8b647aa",
   "metadata": {},
   "outputs": [],
   "source": [
    "def matrix_range(matrix: np.ndarray, give_submatrix: bool=False) -> tuple:\n",
    "    \"\"\"\n",
    "    Returns the range of the given matrix. If specified, it also gives a\n",
    "    submatrix with independent columns with the same range.\n",
    "\n",
    "    Parameters\n",
    "    ----------\n",
    "    `matrix`: ndarray\n",
    "        2D array representing the matrix we want to study.\n",
    "    `give_submatrix`: bool\n",
    "        If set to True, it gives gives a submatrix with independent columns \n",
    "        with same range. Default False.\n",
    "\n",
    "    Returns\n",
    "    -------\n",
    "    A tuple with the following objects:\n",
    "\n",
    "    `r`: int\n",
    "        Range value of the matrix.\n",
    "    `submatrix`: ndarray\n",
    "        2D array of independent columns of the matrix.\n",
    "    \"\"\"\n",
    "    \n",
    "    # Reduce the given matrix\n",
    "    m, n = matrix.shape\n",
    "    matrix = np.hstack((matrix, np.zeros(m)[:, np.newaxis]))\n",
    "    A, unknows, stairs, s = gj_reduction(matrix)\n",
    "\n",
    "    # Give range\n",
    "    r = stairs\n",
    "\n",
    "    # Give submatrix\n",
    "    if give_submatrix == True:\n",
    "        nonzero_idx = np.asarray(A.nonzero())\n",
    "        stairs_idx = np.array([nonzero_idx[1, 0]] + [ \n",
    "            nonzero_idx[1, k+1]\n",
    "            for k in range(len(nonzero_idx[0]) - 1)\n",
    "            if nonzero_idx[0][k+1] != nonzero_idx[0][k]\n",
    "            ])\n",
    "        submatrix = matrix[:, stairs_idx]\n",
    "        return r, submatrix\n",
    "    else:\n",
    "        return r\n"
   ]
  },
  {
   "cell_type": "markdown",
   "id": "c9629b48",
   "metadata": {},
   "source": [
    "Aplicado al ejemplo anterior:"
   ]
  },
  {
   "cell_type": "code",
   "execution_count": null,
   "id": "b8343ad8",
   "metadata": {},
   "outputs": [
    {
     "data": {
      "text/plain": [
       "(2,\n",
       " array([[1., 2.],\n",
       "        [0., 1.],\n",
       "        [1., 4.]]))"
      ]
     },
     "metadata": {},
     "output_type": "display_data"
    }
   ],
   "source": [
    "matrix = np.array([[1, 2, 3, 4],\n",
    "                   [0, 1, 1, 1],\n",
    "                   [1, 4, 5, 6]])\n",
    "\n",
    "matrix_range(matrix, give_submatrix=True)"
   ]
  },
  {
   "cell_type": "markdown",
   "id": "432fe987",
   "metadata": {},
   "source": [
    "Es posible que no nos interese conocer la submatriz de columnas linealmente independientes, sino las filas. En este caso, podríamos quedarnos con las filas que sobreviven después de reducir la matriz. Sin embargo, este enfoque requiere seguir las filas que sobreviven en cada paso que demos en la reducción: si pivotamos las filas, su posición final no se corresponderá con la inicial en general. Para evitar esto, sencillamente trasponemos la matriz y realizamos un estudio idéntico sobre esta matriz:"
   ]
  },
  {
   "cell_type": "code",
   "execution_count": null,
   "id": "946343f1",
   "metadata": {},
   "outputs": [
    {
     "name": "stdout",
     "output_type": "stream",
     "text": [
      "Filas linealmente independientes:\n",
      "[[1. 0. 1. 0.]\n",
      " [2. 1. 4. 0.]\n",
      " [3. 1. 5. 0.]\n",
      " [4. 1. 6. 0.]]\n",
      "[[1. 2. 3. 4.]\n",
      " [0. 1. 1. 1.]]\n"
     ]
    }
   ],
   "source": [
    "# Trasponemos la matriz\n",
    "row_matrix = matrix.T\n",
    "row_matrix = np.hstack((row_matrix, np.zeros(len(row_matrix))[:, np.newaxis]))\n",
    "\n",
    "# Reducimos la matriz\n",
    "A, unknows, stairs, s = gj_reduction(row_matrix)\n",
    "\n",
    "# Damos las filas linealmente independientes \n",
    "nonzero_idx = np.asarray(A.nonzero())\n",
    "stairs_idx = np.array([nonzero_idx[1, 0]] + [ \n",
    "nonzero_idx[1, k+1]\n",
    "for k in range(len(nonzero_idx[0]) - 1)\n",
    "if nonzero_idx[0][k+1] != nonzero_idx[0][k]\n",
    "])\n",
    "indp_rows = row_matrix[:, stairs_idx].T\n",
    "\n",
    "print(\"Filas linealmente independientes:\")\n",
    "print(row_matrix)\n",
    "print(indp_rows)"
   ]
  },
  {
   "cell_type": "markdown",
   "id": "e644acc9",
   "metadata": {},
   "source": [
    "Este caso sugiere ampliar el alcance de la definición anterior:"
   ]
  },
  {
   "cell_type": "code",
   "execution_count": null,
   "id": "ddeaf56f",
   "metadata": {},
   "outputs": [],
   "source": [
    "def matrix_range(matrix: np.ndarray, give_cols: bool=False, give_rows: bool=False) -> tuple:\n",
    "    \"\"\"\n",
    "    Returns the range of the given matrix. If specified, it also gives the independent\n",
    "    columns and rows of the matrix.\n",
    "\n",
    "    Parameters\n",
    "    ----------\n",
    "    `matrix`: ndarray\n",
    "        2D array representing the matrix we want to study.\n",
    "    `give_cols, give_rows`: bool\n",
    "        If set to True, they give the independent columns and rows of the matrix,\n",
    "        respectively. Default False.\n",
    "\n",
    "    Returns\n",
    "    -------\n",
    "    A tuple with the following objects:\n",
    "\n",
    "    `r`: int\n",
    "        Range value of the matrix.\n",
    "    `indp_cols, indp_rows`: ndarray\n",
    "        2D array of independent columns and rows of the matrix, respectively.\n",
    "    \"\"\"\n",
    "    \n",
    "    # Reduce the given matrix\n",
    "    m, n = matrix.shape\n",
    "    aux_matrix = np.hstack((matrix, np.zeros(m)[:, np.newaxis]))\n",
    "    A, _, stairs, _ = gj_reduction(aux_matrix)\n",
    "\n",
    "    # Give range\n",
    "    r = stairs\n",
    "\n",
    "    results = [r]\n",
    "\n",
    "    # Independent columns\n",
    "    if give_cols:\n",
    "        nonzero_idx = np.asarray(A.nonzero())\n",
    "        stairs_idx = np.array([nonzero_idx[1, 0]] + [\n",
    "            nonzero_idx[1, k+1]\n",
    "            for k in range(len(nonzero_idx[0]) - 1)\n",
    "            if nonzero_idx[0][k+1] != nonzero_idx[0][k]\n",
    "        ])\n",
    "        indp_cols = matrix[:, stairs_idx]\n",
    "        results.append(indp_cols)\n",
    "\n",
    "    # Independent rows\n",
    "    if give_rows:\n",
    "        aux_matrix = matrix.T\n",
    "        aux_matrix = np.hstack((row_matrix, np.zeros(len(row_matrix))[:, np.newaxis]))\n",
    "        A, _, _, _ = gj_reduction(row_matrix)\n",
    "        nonzero_idx = np.asarray(A.nonzero())\n",
    "        stairs_idx = np.array([nonzero_idx[1, 0]] + [\n",
    "            nonzero_idx[1, k+1]\n",
    "            for k in range(len(nonzero_idx[0]) - 1)\n",
    "            if nonzero_idx[0][k+1] != nonzero_idx[0][k]\n",
    "        ])\n",
    "        indp_rows = aux_matrix[:, stairs_idx].T\n",
    "        results.append(indp_rows)\n",
    "    \n",
    "    # Return only range value if no extra info requested, else tuple\n",
    "    if len(results) == 1:\n",
    "        return r\n",
    "    else:\n",
    "        return tuple(results)\n"
   ]
  },
  {
   "cell_type": "markdown",
   "id": "90979b58",
   "metadata": {},
   "source": [
    "Ahora sí tenemos una versión completa de la función anterior. Aplicada al mismo ejemplo:"
   ]
  },
  {
   "cell_type": "code",
   "execution_count": null,
   "id": "13f1bc87",
   "metadata": {},
   "outputs": [
    {
     "data": {
      "text/plain": [
       "(2,\n",
       " array([[1, 2],\n",
       "        [0, 1],\n",
       "        [1, 4]]),\n",
       " array([[1., 2., 3., 4.],\n",
       "        [0., 1., 1., 1.]]))"
      ]
     },
     "metadata": {},
     "output_type": "display_data"
    }
   ],
   "source": [
    "matrix = np.array([[1, 2, 3, 4],\n",
    "                   [0, 1, 1, 1],\n",
    "                   [1, 4, 5, 6]])\n",
    "\n",
    "matrix_range(matrix, give_cols=True, give_rows=True)"
   ]
  },
  {
   "cell_type": "markdown",
   "id": "985aa82e",
   "metadata": {},
   "source": [
    "Evidentemente, los conjuntos de columnas y filas proporcionados por la función no son los únicos. Pueden haber otra combinación de los vectores que también sea linealmente independiente."
   ]
  },
  {
   "cell_type": "markdown",
   "id": "6d93c9ad",
   "metadata": {},
   "source": [
    "\n",
    "Cómo se ha visto, `gj_reduction` es un algoritmo secuencial, por lo que sufrirá de los inconvenientes comunes de estos algoritmos. Sin embargo, representa una primera solución bastante útil para resolver sistemas sencillos: particularmente de números enteros. En el caso que se quiera resolver sistemas con números decimales (con alguna precisión) este algoritmo no es del todo conveniente, ya que haría falta _normalizar_ la matriz en cada paso: esto es, llevar a `0` todos aquellos valores que estén por debajo de la precisión de nuestros datos a medida que realizamos operaciones. Esto ocurre cuando se trabaja con datos que difieren en pocos decimales, o cuando los valores son muy cercanos a cero.\n",
    "\n",
    "Para tener esto en cuenta, realizamos las modificaciones necesarias en la función anterior:"
   ]
  },
  {
   "cell_type": "code",
   "execution_count": 17,
   "id": "35145a20",
   "metadata": {},
   "outputs": [],
   "source": [
    "## Fine-tuning Gauss-Jordan reduction algorithm\n",
    "\n",
    "def ftgj_reduction(coef_matrix: np.ndarray, values: np.ndarray, tol=float) -> tuple:\n",
    "    '''\n",
    "    Uses Gauss-Jordan reduction method to reduce a linear equations system with coefficient matrix \n",
    "    `coef_matrix` (2-D) and independent values `values` (1-D). The parameter `tol` adjusts the\n",
    "    precission of our data: i.e. sets to zero every element of the matrix below that precission.\n",
    "    btw, `ftgj` stands for fine-tuning gauss-jordan.\n",
    "\n",
    "    Parameters\n",
    "    ----------\n",
    "    `coef_matrix`: array_like\n",
    "        2 dimensional array with the coefficients matrix of the system\n",
    "    \n",
    "    `values`: array_like\n",
    "        1 dimensional array with the independent values of the system\n",
    "\n",
    "    Returns\n",
    "    -------\n",
    "    A tuple with the following objects:\n",
    "    \n",
    "        `A`: array_like\n",
    "            Final reduced matrix\n",
    "        \n",
    "        `exp_s`, `coef_s`: int\n",
    "            Both are the number of stairs that the reduced expanded and coefficients matrices have,\n",
    "            respectively. At the same time, both numbers represent the ranges of their correspondig\n",
    "            matrix.\n",
    "            \n",
    "        `n`: int\n",
    "            The number of unknows (variables) of the system\n",
    "    '''\n",
    "\n",
    "    # Merge the matrix and values in one sigle matrix\n",
    "    A = np.hstack((coef_matrix, values[:, np.newaxis]), dtype=float)\n",
    "    m, n = coef_matrix.shape\n",
    "\n",
    "    #We start reducing the matrix\n",
    "\n",
    "    k, l = 0, 0     # Row and column indices\n",
    "\n",
    "    while (k <= m-1) and (l <= n-1):\n",
    "        \n",
    "        print(\"k =\", k, \", l =\", l)\n",
    "\n",
    "        # 0. Fine-Tuning\n",
    "\n",
    "        # Set to 0 everything below our precision\n",
    "        A[np.abs(A) < tol] = 0.\n",
    "        print(\"Etapa 0:\\n\", A)\n",
    "        \n",
    "        # 1. Prepare the rows by switching accordingly\n",
    "\n",
    "        # Select column/row \n",
    "        col = A[k:, l]\n",
    "        row = A[k, l:]\n",
    "\n",
    "        # We find the nonzero values along that column\n",
    "        nonzero_idx = col.nonzero()[0]\n",
    "\n",
    "        # Chek if the column is full of zeros\n",
    "        if nonzero_idx.size == 0: \n",
    "            # Move to the next column if so and skip\n",
    "            l += 1  \n",
    "            continue\n",
    "        \n",
    "        # Find the min value along that column\n",
    "        min_nonzero_idx = nonzero_idx[np.argmin(np.abs(col)[np.abs(col) != 0])] + k\n",
    "\n",
    "        # Switch rows\n",
    "        A[[k, min_nonzero_idx], l:] = A[[min_nonzero_idx, k], l:]\n",
    "\n",
    "        # Make a 1 in the row\n",
    "        A[k, l:] = row / row[0]\n",
    "        print(\"Etapa 1:\\n\", A)\n",
    "\n",
    "        # 2. Perform operations\n",
    "\n",
    "        # Rows that do not match with the selected row\n",
    "        idx = np.arange(m)\n",
    "        idx = idx[idx != k]\n",
    "        \n",
    "        # Block build with previous rows and first coefficients \n",
    "        block = A[idx, l:]\n",
    "        coef = block[:, [0]]\n",
    "\n",
    "        # Row operations\n",
    "        A[idx, l:] = block - coef * row  \n",
    "        print(\"Etapa 2:\\n\", A)\n",
    "        \n",
    "        # 3. Move to the next iteration\n",
    "\n",
    "        k += 1\n",
    "        l += 1\n",
    "    \n",
    "    # Counting stairs of the expanded and coefficients matrix\n",
    "    exp_s = np.unique(A.nonzero()[0]).size \n",
    "    coef_s = np.unique(A[:, :-1].nonzero()[0]).size\n",
    "\n",
    "    # In case we have an undetermined system, we finally reduce the last column\n",
    "    if exp_s != coef_s:\n",
    "        idx = np.arange(m)\n",
    "        A[exp_s-1, n] = 1\n",
    "        A[:, n][idx != exp_s-1] = 0\n",
    "\n",
    "    return A, n, exp_s, coef_s"
   ]
  },
  {
   "cell_type": "markdown",
   "id": "93882c5a",
   "metadata": {},
   "source": [
    "Ahora, consideremos como ejemplo la siguiente matriz:"
   ]
  },
  {
   "cell_type": "code",
   "execution_count": 18,
   "id": "a3cdd73d",
   "metadata": {},
   "outputs": [],
   "source": [
    "matrix = np.array([\n",
    "    [1.234, 2.345, 3.456, 4.567],\n",
    "    [5.678, 6.789, 7.890, 8.901],\n",
    "    [9.012, 8.123, 0.234, 3.345],\n",
    "    [4.456, 5.567, 6.678, 7.789]\n",
    "], dtype=float)"
   ]
  },
  {
   "cell_type": "markdown",
   "id": "7f520502",
   "metadata": {},
   "source": [
    "Se trata de una matriz 4x4 de números con tres decimales de precisión. Si estos datos se correspondieran a medidas realizadas con esta precisión, cualquier número por debajo de 0.01 sería indistinguible de 0. Por tanto, establecemos la precisión a `tol=0.01` y estudiemos cuando se produce la normalización en cada paso:"
   ]
  },
  {
   "cell_type": "code",
   "execution_count": 19,
   "id": "3d92c0f3",
   "metadata": {},
   "outputs": [
    {
     "name": "stdout",
     "output_type": "stream",
     "text": [
      "k = 0 , l = 0\n",
      "Etapa 0:\n",
      " [[1.234 2.345 3.456 4.567]\n",
      " [5.678 6.789 7.89  8.901]\n",
      " [9.012 8.123 0.234 3.345]\n",
      " [4.456 5.567 6.678 7.789]]\n",
      "Etapa 1:\n",
      " [[1.         1.90032415 2.8006483  3.70097245]\n",
      " [5.678      6.789      7.89       8.901     ]\n",
      " [9.012      8.123      0.234      3.345     ]\n",
      " [4.456      5.567      6.678      7.789     ]]\n",
      "Etapa 2:\n",
      " [[  1.           1.90032415   2.8006483    3.70097245]\n",
      " [  0.          -4.00104052  -8.01208104 -12.11312156]\n",
      " [  0.          -9.00272123 -25.00544246 -30.0081637 ]\n",
      " [  0.          -2.90084441  -5.80168882  -8.70253323]]\n",
      "k = 1 , l = 1\n",
      "Etapa 0:\n",
      " [[  1.           1.90032415   2.8006483    3.70097245]\n",
      " [  0.          -4.00104052  -8.01208104 -12.11312156]\n",
      " [  0.          -9.00272123 -25.00544246 -30.0081637 ]\n",
      " [  0.          -2.90084441  -5.80168882  -8.70253323]]\n",
      "Etapa 1:\n",
      " [[  1.           1.90032415   2.8006483    3.70097245]\n",
      " [  0.           1.           2.           3.        ]\n",
      " [  0.          -9.00272123 -25.00544246 -30.0081637 ]\n",
      " [  0.          -4.00104052  -8.01208104 -12.11312156]]\n",
      "Etapa 2:\n",
      " [[ 1.    0.   -1.   -2.  ]\n",
      " [ 0.    1.    2.    3.  ]\n",
      " [ 0.    0.   -7.   -3.  ]\n",
      " [ 0.    0.   -0.01 -0.11]]\n",
      "k = 2 , l = 2\n",
      "Etapa 0:\n",
      " [[ 1.    0.   -1.   -2.  ]\n",
      " [ 0.    1.    2.    3.  ]\n",
      " [ 0.    0.   -7.   -3.  ]\n",
      " [ 0.    0.    0.   -0.11]]\n",
      "Etapa 1:\n",
      " [[ 1.          0.         -1.         -2.        ]\n",
      " [ 0.          1.          2.          3.        ]\n",
      " [ 0.          0.          1.          0.42857143]\n",
      " [ 0.          0.          0.         -0.11      ]]\n",
      "Etapa 2:\n",
      " [[ 1.          0.          0.         -1.57142857]\n",
      " [ 0.          1.          0.          2.14285714]\n",
      " [ 0.          0.          1.          0.42857143]\n",
      " [ 0.          0.          0.         -0.11      ]]\n"
     ]
    },
    {
     "data": {
      "text/plain": [
       "(array([[1., 0., 0., 0.],\n",
       "        [0., 1., 0., 0.],\n",
       "        [0., 0., 1., 0.],\n",
       "        [0., 0., 0., 1.]]),\n",
       " 3,\n",
       " 4,\n",
       " 3)"
      ]
     },
     "execution_count": 19,
     "metadata": {},
     "output_type": "execute_result"
    }
   ],
   "source": [
    "ftgj_reduction(matrix[:,:-1], matrix[:,-1], tol=0.01)"
   ]
  },
  {
   "cell_type": "markdown",
   "id": "cfb69d33",
   "metadata": {},
   "source": [
    "La secuencia nos muestran que, cuando `k=l=2`, la _Etapa 0_ (correspondiente al paso 0 en el bucle) reduce un valor que está por debajo de la precisión a cero: esto se puede ver comparando la _Etapa 2_ del paso `k=l=1` con la _Etapa 0_ del paso `k=l=2`. Esto permite contar valores no nulos (o dentro de la precisión) correctamente cuando pasamos a la _Etapa 1_, donde hacemos uso de la función `np.nonzero()`.\n",
    "\n",
    "**Conclusión**. Usemos `gj_reduction` si nuestros datos no tienen una precisión prefijada, y `ftgj_reduction` en cualquier otro caso. Si se usa la versión _fine-tuning_ se deberá pensar el criterio por el que se fija la precisión de los datos: muy importante, porque la solución cambiará según el valor que se decida dar."
   ]
  },
  {
   "cell_type": "markdown",
   "id": "1d72699b",
   "metadata": {},
   "source": [
    "## Estructura de las soluciones de un sistema"
   ]
  },
  {
   "cell_type": "markdown",
   "id": "465b6aea",
   "metadata": {},
   "source": [
    "Las soluciones de los sistemas de ecuaciones se pueden dar en forma vectorial. Para un sistema de $n$ incógnitas $x_1, x_2, \\dots, x_n$, su _vector solución_ es un vector de $n$ componentes de la forma\n",
    "$$\\vec{x} = (x_1, x_2, \\dots, x_n)$$\n",
    "tal que si nosotros sustituimos los valores $x_i$ por su solución, obtenemos una igualdad en todas sus ecuaciones. Bajo la representación vectorial de la solución de un sistema de ecuaciones, es posible encontrar una descomposición sencilla de la solución. Consideremos un sistema de $m$ ecuaciones y $n$ incógnitas inhomogéneo (caso más general):\n",
    "$$\\left\\{\\begin{aligned}\n",
    "    a_{11} x_1 &+ a_{22} x_2 &+ \\cdots &+ a_{1n} x_n &= b_1 \\\\\n",
    "    a_{21} x_1 &+ a_{22} x_2 &+ \\cdots &+ a_{2n} x_n &= b_2 \\\\\n",
    "    & & \\vdots \\\\\n",
    "    a_{m1} x_1 &+ a_{m2} x_2 &+ \\cdots &+ a_{mn} x_n &= b_m \\\\\n",
    "\\end{aligned}\\right.$$\n",
    "y llamemos su _sistema homogéneo asociado_ al sistema que se genera de anular todos sus términos independientes ($b_i = 0$). Entonces, sabemos que la solución $\\vec{x} = (x_1, x_2, \\dots, x_n)$ del sistema se puede escribir de la siguiente forma\n",
    "$$\\vec{x} = \\vec{u} + \\sum_{i=1}^k c_i \\vec{u}_i$$\n",
    "que se conoce como la _solución general_ del sistema, donde:\n",
    "\n",
    "- $\\vec{u}$ es una solución particular del sistema inhomogéneo.\n",
    "- $\\vec{u}_i$ son todas las soluciones independientes del sistema homogéneo asociado. En total, $k = n - r(A)$ soluciones, siendo $r(A)$ el rango de la matriz de coeficientes del sistema.\n",
    "- $c_i$ son reales cualesquiera.\n",
    "\n",
    "En general, esta descomposición de la solución se obtiene fácilmente si se tiene la matriz escalonada reducida del sistema:\n",
    "\n",
    "- La solución particular $\\vec{u}$ se consigue anulando todas las variables libres del sistema.\n",
    "- Las soluciones independientes $\\vec{u}_i$ se consiguen siguiendo este procedimiento sobre el sistema homogéneo:\n",
    "\n",
    "    1. Se escoge una variable libre.\n",
    "    2. Se anulan todas las variables libres menos la escogida, que toma valor 1.\n",
    "    3. Se guarda la solución obtenida, que sería una de las soluciones independientes.\n",
    "    4. Se repite desde el paso 1, descartando la variable seleccionada en el paso anterior.\n",
    "\n",
    "Evidentemente, solo se tendrá solución para el sistema cuando sea compatible: es decir, cuando $n \\geq r(A) = r(\\bar{A})$, donde $\\bar{A}$ sería la matriz ampliada.\n",
    "\n",
    "Nuestro objetivo es dar un algoritmo que nos proporcione la solución general de un sistema (cuando sea compatible); esto es, el valor de la solución particular y sus soluciones independientes. Para conseguir esto, podemos aprovechar la función `gj_reduction` de la sección anterior, que nos daba \n",
    "- la forma de la matriz escalonada reducida\n",
    "- el número de incógnitas\n",
    "- el rango de la matriz de coeficientes\n",
    "- y el rango de la matriz ampliada\n",
    "\n",
    "Con la información que nos proporciona la función, podemos distinguir directamente si el sistema tiene solución o no: sencillamente comparando los rangos obtenidos. La dificultad radica entonces en conseguir las soluciones $\\vec{u}$ y $\\vec{u}_i$ a partir de la matriz escalonada reducida. "
   ]
  },
  {
   "cell_type": "markdown",
   "id": "6251e821",
   "metadata": {},
   "source": [
    "### Ejemplo"
   ]
  },
  {
   "cell_type": "markdown",
   "id": "1440037d",
   "metadata": {},
   "source": [
    "Antes de dar la función que genera las soluciones directamente, consideremos primero un ejemplo:"
   ]
  },
  {
   "cell_type": "code",
   "execution_count": 2,
   "id": "38992941",
   "metadata": {},
   "outputs": [
    {
     "name": "stdout",
     "output_type": "stream",
     "text": [
      "Sistema a resolver:\n",
      "[[ 1  2  3  4  5]\n",
      " [ 2  4  6  8 10]\n",
      " [ 3  7  9 12 18]\n",
      " [ 4  8 12 16 20]]\n"
     ]
    }
   ],
   "source": [
    "# Matriz de coeficientes\n",
    "coef_matrix = np.array([[1, 2, 3, 4],\n",
    "                        [2, 4, 6, 8],\n",
    "                        [3, 7, 9, 12],\n",
    "                        [4, 8, 12, 16]])\n",
    "\n",
    "# Términos independientes\n",
    "val = np.array([5, 10, 18, 20])\n",
    "\n",
    "# Filas e incógnitas\n",
    "m, n = coef_matrix.shape\n",
    "\n",
    "# Matriz ampliada\n",
    "system = np.hstack((coef_matrix, val[:, np.newaxis]))\n",
    "\n",
    "print(\"Sistema a resolver:\")\n",
    "print(system)\n"
   ]
  },
  {
   "cell_type": "markdown",
   "id": "705aa88c",
   "metadata": {},
   "source": [
    "Se trata de un sistema de 4 ecuaciones y 4 incógnitas. Podemos comprobar que el sistema es compatible indeterminado usando la función `gj_reduction`:"
   ]
  },
  {
   "cell_type": "code",
   "execution_count": 3,
   "id": "7c4ed375",
   "metadata": {},
   "outputs": [
    {
     "name": "stdout",
     "output_type": "stream",
     "text": [
      "Sistema reducido:\n",
      "[[ 1.  0.  3.  4. -1.]\n",
      " [ 0.  1.  0.  0.  3.]\n",
      " [ 0.  0.  0.  0.  0.]\n",
      " [ 0.  0.  0.  0.  0.]]\n",
      "Incógnitas: 4\n",
      "Peldaños de la matriz aumentada: 2\n",
      "Peldaños de la matriz de coeficientes: 2\n"
     ]
    }
   ],
   "source": [
    "A, unknowns, aug_s, coef_s = lak.gj_reduction(system, give_syspar=True)\n",
    "\n",
    "print(\"Sistema reducido:\")\n",
    "print(A)\n",
    "print(\"Incógnitas:\", n)\n",
    "print(\"Peldaños de la matriz aumentada:\", aug_s)\n",
    "print(\"Peldaños de la matriz de coeficientes:\", coef_s)"
   ]
  },
  {
   "cell_type": "markdown",
   "id": "7f0b0a0a",
   "metadata": {},
   "source": [
    "Nuestro objetivo es dar la solución general de este sistema, para lo que tendremos que dar valores a las variables libres para obtener la solución particular, y todas sus soluciones independientes. \n",
    "\n",
    "Este problema se simplifica enormemente si encontramos antes los índices columna en las que se sitúan las variables libres y dependientes. Recordemos que las variables libres son las que no se encuentran en los peldaños de la escalera; las dependientes, en cambio, son las que se sitúan en los peldaños. Esquemáticamente, para la matriz anterior, tendríamos:\n",
    "\n",
    "```markdown\n",
    "v.l = variable libre\n",
    "v.d = variable dependiente\n",
    "t = términos independientes\n",
    "\n",
    "        v.d   v.d  v.l  v.l  t\n",
    "         |     |    |    |   |\n",
    "      [[ 1.,  0.,  3.,  4., -1.],\n",
    "       [ 0.,  1.,  0.,  0.,  3.],\n",
    "       [ 0.,  0.,  0.,  0.,  0.],\n",
    "       [ 0.,  0.,  0.,  0.,  0.]]\n",
    "```\n",
    "\n",
    "Las variables dependientes se sitúan en el primer elemento no nulo de cada fila de la escalera (los peldaños). Los índices podemos encontrarlos de la siguiente forma:"
   ]
  },
  {
   "cell_type": "code",
   "execution_count": 4,
   "id": "64f0086a",
   "metadata": {},
   "outputs": [
    {
     "name": "stdout",
     "output_type": "stream",
     "text": [
      "Índices de las variables dependientes: [0 1]\n",
      "Índices de las variables libres: [2 3]\n"
     ]
    }
   ],
   "source": [
    "# Índices de las variables dependientes (los peldaños)\n",
    "stairs_idx = np.array([\n",
    "    np.argmax(row != 0)         # Índice del primer elemento no nulo del peldaño\n",
    "    for row in A[:coef_s, :-1]  # Nos movemos entre peldaños y sin la columna de términos independientes\n",
    "])\n",
    "\n",
    "#Índices de las variables libres (los que no están en los peldaños)\n",
    "nostairs_idx = np.array([k for k in range(n) if k not in stairs_idx])\n",
    "\n",
    "print(\"Índices de las variables dependientes:\", stairs_idx)\n",
    "print(\"Índices de las variables libres:\", nostairs_idx)\n"
   ]
  },
  {
   "cell_type": "markdown",
   "id": "1085aaf9",
   "metadata": {},
   "source": [
    "Una vez identificados los índices, la solución particular y las soluciones independientes son directas de obtener: tan solo requiere despejar los coeficientes de las variables libres y asignar correctamente los valores de cada variable."
   ]
  },
  {
   "cell_type": "code",
   "execution_count": 5,
   "id": "240cd579",
   "metadata": {},
   "outputs": [
    {
     "name": "stdout",
     "output_type": "stream",
     "text": [
      "Solución particular: [-1.  3.  0.  0.]\n",
      "Soluciones independientes: [array([-3., -0.,  1.,  0.]), array([-4., -0.,  0.,  1.])]\n"
     ]
    }
   ],
   "source": [
    "\n",
    "# 2. Damos la solución particular (variables libres nulas)\n",
    "\n",
    "part_sol = np.zeros(n)\n",
    "values = A[:, -1]   # Térimnos independientes\n",
    "\n",
    "part_sol[stairs_idx] = values[:aug_s] # Asignamos los valores de cada variable\n",
    "\n",
    "# 3. Damos las soluciones independientes (que se generan de anular todas las variables libres menos una)\n",
    "\n",
    "indp_sol = []\n",
    "\n",
    "for free_idx in nostairs_idx:\n",
    "    sol = np.zeros(n)\n",
    "    values = - A[:, free_idx]   # Despejamos la variable libre no nula\n",
    "\n",
    "    sol[stairs_idx] = values[:aug_s]    # Asignamos los valores de cada variable\n",
    "    sol[free_idx] = 1\n",
    "\n",
    "    indp_sol.append(sol)\n",
    "\n",
    "print(\"Solución particular:\", part_sol)\n",
    "print(\"Soluciones independientes:\", indp_sol)\n"
   ]
  },
  {
   "cell_type": "markdown",
   "id": "bb3d3a2b",
   "metadata": {},
   "source": [
    "Cabe resaltar que si nuestro sistema hubiera sido compatible determinado, solo tendríamos una solución particular (sin soluciones independientes). Del mismo modo, si el sistema hubiera sido incompatible, no habría solución que dar."
   ]
  },
  {
   "cell_type": "markdown",
   "id": "e343d4b8",
   "metadata": {},
   "source": [
    "### Implementación"
   ]
  },
  {
   "cell_type": "markdown",
   "id": "b9782ead",
   "metadata": {},
   "source": [
    "Todos los casos de compatibilidad, y la solución general del sistema están implementado en la función `solve` del paquete `linalgkit`:\n",
    "\n",
    "| Función | Parámetros | Retorno | Notas |\n",
    "|---------|------------|---------|-------|\n",
    "| `solve` | - `coef_matrix`: matriz 2D de coeficientes<br>- `values`: vector 1D de términos independientes (opcional, si no se da se asume sistema homogéneo) | - Si el sistema es incompatible: imprime advertencia y retorna None<br>- Si es compatible determinado: retorna solución particular<br>- Si es compatible indeterminado:<br>&nbsp;&nbsp;• sistema no homogéneo: retorna (solución particular, soluciones independientes)<br>&nbsp;&nbsp;• sistema homogéneo: retorna soluciones independientes | - Distingue entre sistemas incompatibles, determinados e indeterminados.<br>- Puede resolver sistemas homogéneos (sin `values`).<br>- Usa reducción de Gauss-Jordan para encontrar soluciones.<br>- Las soluciones independientes corresponden al sistema homogéneo asociado. |"
   ]
  },
  {
   "cell_type": "markdown",
   "id": "43e0a7b7",
   "metadata": {},
   "source": [
    "Para el ejemplo que estudiamos antes tendríamos:"
   ]
  },
  {
   "cell_type": "code",
   "execution_count": 15,
   "id": "99fed385",
   "metadata": {},
   "outputs": [
    {
     "name": "stdout",
     "output_type": "stream",
     "text": [
      "Compatible underdetermined system\n",
      "Solución particular: [-1.  3.  0.  0.]\n",
      "Soluciones independientes: (array([-3., -0.,  1.,  0.]), array([-4., -0.,  0.,  1.]))\n",
      "Comprobación\n",
      "[ True  True  True  True]\n"
     ]
    }
   ],
   "source": [
    "# Matriz de coeficientes\n",
    "coef_matrix = np.array([[1, 2, 3, 4],\n",
    "                        [2, 4, 6, 8],\n",
    "                        [3, 7, 9, 12],\n",
    "                        [4, 8, 12, 16]])\n",
    "\n",
    "# Términos independientes\n",
    "val = np.array([5, 10, 18, 20])\n",
    "\n",
    "part_sol, indp_sol = lak.solve(coef_matrix, val)\n",
    "print(\"Solución particular:\", part_sol)\n",
    "print(\"Soluciones independientes:\", indp_sol)\n",
    "print(\"Comprobación\")\n",
    "print(coef_matrix @ (part_sol + 2*indp_sol[0] + 3*indp_sol[1]) == val)"
   ]
  }
 ],
 "metadata": {
  "kernelspec": {
   "display_name": "Python 3",
   "language": "python",
   "name": "python3"
  },
  "language_info": {
   "codemirror_mode": {
    "name": "ipython",
    "version": 3
   },
   "file_extension": ".py",
   "mimetype": "text/x-python",
   "name": "python",
   "nbconvert_exporter": "python",
   "pygments_lexer": "ipython3",
   "version": "3.11.9"
  }
 },
 "nbformat": 4,
 "nbformat_minor": 5
}
