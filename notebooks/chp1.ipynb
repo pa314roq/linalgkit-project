{
 "cells": [
  {
   "cell_type": "markdown",
   "id": "4cbc8f27",
   "metadata": {},
   "source": [
    "# Chapter 1. Systems, vectors and matrices"
   ]
  },
  {
   "cell_type": "code",
   "execution_count": 2,
   "id": "2a717240",
   "metadata": {},
   "outputs": [],
   "source": [
    "import numpy as np\n",
    "import sys\n",
    "sys.path.append(\"..\")\n",
    "import linalgkit as lak"
   ]
  },
  {
   "cell_type": "markdown",
   "id": "7a4548d9",
   "metadata": {},
   "source": [
    "## Gauss-Jordan method. Rouchè-Frobenious theorem"
   ]
  },
  {
   "cell_type": "markdown",
   "id": "41635fae",
   "metadata": {},
   "source": [
    "Consider a system of $m$ linear equations and $n$ unknowns,\n",
    "$$\n",
    "\\left\\{\n",
    "\\begin{array}{ccccccccc}\n",
    "a_{11} x_1 &+& a_{12} x_2 &+& \\cdots &+& a_{1n} x_n &=& b_1 \\\\\n",
    "a_{21} x_1 &+& a_{22} x_2 &+& \\cdots &+& a_{2n} x_n &=& b_2 \\\\\n",
    "\\vdots     & & \\vdots     & &        & & \\vdots     & & \\vdots \\\\\n",
    "a_{m1} x_1 &+& a_{m2} x_2 &+& \\cdots &+& a_{mn} x_n &=& b_m \\\\\n",
    "\\end{array}\n",
    "\\right.\n",
    "$$\n",
    "There are two matrices associated with a system like the previous one:\n",
    "$$\\begin{array}{cc}\n",
    "\\text{Matriz de coeficientes} & \\text{Matriz ampliada} \\\\[10pt]\n",
    "    \\left(\\begin{array}{cccc}\n",
    "    a_{11} & a_{12} & \\cdots & a_{1n} \\\\\n",
    "    a_{21} & a_{22} & \\cdots & a_{2n} \\\\\n",
    "    \\vdots & \\vdots & \\ddots & \\vdots \\\\\n",
    "    a_{m1} & m_{m2} & \\cdots & a_{mn}\n",
    "    \\end{array}\\right)\n",
    "    &\n",
    "    \\left(\\begin{array}{cccc|c}\n",
    "    a_{11} & a_{12} & \\cdots & a_{1n} & b_1 \\\\\n",
    "    a_{21} & a_{22} & \\cdots & a_{2n} & b_2 \\\\\n",
    "    \\vdots & \\vdots & \\ddots & \\vdots & \\vdots \\\\\n",
    "    a_{m1} & a_{m2} & \\cdots & a_{mn} & b_m\n",
    "    \\end{array}\\right) \n",
    "\\end{array}$$\n",
    "\n",
    "- The _coefficient matrix_ contains only the coefficients of the system.\n",
    "- The _augmented matrix_ contains the coefficients and the independent terms (constants on the other side of the equation).\n",
    "\n",
    "If the augmented matrix of the previous system is,\n",
    "\n",
    "$$\\left(\\begin{array}{cccc|c}\n",
    "    a_{11} & a_{12} & \\cdots & a_{1n} & b_1 \\\\\n",
    "    a_{21} & a_{22} & \\cdots & a_{2n} & b_2 \\\\\n",
    "           &        & \\vdots &        & \\vdots \\\\\n",
    "    a_{m1} & a_{m2} & \\cdots & a_{mn} & b_m\n",
    "\\end{array}\\right)$$\n",
    "\n",
    "\n",
    "> The _Gauss-Jordan reduction method_ (GJ) consists of reducing the augmented matrix of the system to its _reduced row echelon form_ using _elementary row operations_ (operations among the system's equations). From this last matrix, we can directly obtain the solution to the system, if it exists.\n",
    "\n",
    "The reduced row echelon matrix is a matrix with the following characteristics:\n",
    "\n",
    "The reduced row echelon matrix is a matrix with the following characteristics:\n",
    "\n",
    "<p align=\"center\">\n",
    "    <img src=\"../figures/fig_reduced_matrix.svg\" alt=\"Reduced row echelon matrix\" width=20%/>\n",
    "</p>\n",
    "\n",
    "1. Each step has height one.\n",
    "2. All numbers below the steps are zero.\n",
    "3. In every corner of each step, there is a 1.\n",
    "4. Every column containing a step has all its elements zero (except for the step itself, which is 1).\n",
    "\n",
    ">In general, systems can be _consistent_ if they admit at least one solution, or _inconsistent_ if the system has no solution. If they are consistent, they are called _determined_ if they have a unique solution; or _undetermined_ if they have infinitely many solutions.\n",
    "\n",
    "In the study of solutions to a system of equations with $m$ equations and $n$ unknowns, the steps obtained in the coefficient and augmented matrices (when we reduce them) are crucial. Let $A$ be the coefficient matrix of the system and $\\bar{A}$ the augmented matrix. When we reduce the system using GJ, both matrices become row echelon: let $p$ and $\\bar{p}$ be the steps of the reduced coefficient and augmented matrices, respectively. Then, to determine the compatibility of the system, it is only necessary to compare the number of unknowns $n$ with the steps $p$ and $\\bar{p}$:\n",
    "\n",
    "> Rouché–Frobenius Theorem\n",
    ">\n",
    "> Given a system of $m$ equations and $n$ unknowns, we have:\n",
    "> 1. If $n = p = \\bar{p} \\quad \\Leftrightarrow \\quad$ The system is consistent and determined.\n",
    "> 2. If $n > p = \\bar{p} \\quad \\Leftrightarrow \\quad$ The system is consistent and undetermined.\n",
    "> 3. If $p \\neq \\bar{p} \\quad \\Leftrightarrow \\quad$ The system is inconsistent.\n",
    ">\n",
    "The set of elementary operations we perform on the matrix may vary, but the row echelon matrix will always be the same (unique). This leads to multiple ways of reducing a system and, therefore, to multiple algorithms that reduce the matrix using different criteria, even though the same reduction method is followed.\n",
    "\n",
    "The next example will discuss how to reduce a given matrix with the GJ method. We will go through the steps and explain the criteria chosen for the algorithm.\n"
   ]
  },
  {
   "cell_type": "markdown",
   "id": "efb7a358",
   "metadata": {},
   "source": [
    "### Working example"
   ]
  },
  {
   "cell_type": "markdown",
   "id": "c36d2649",
   "metadata": {},
   "source": [
    "Let's start reducing the following matrix:"
   ]
  },
  {
   "cell_type": "code",
   "execution_count": 3,
   "id": "b6cb2776",
   "metadata": {},
   "outputs": [],
   "source": [
    "matrix = np.array([[1, 2, 3, 4, 5],\n",
    "                   [2, 4, 6, 8, 10],\n",
    "                   [3, 8, 9, 12, 18],\n",
    "                   [4, 11, 12, 17, 20]])"
   ]
  },
  {
   "cell_type": "markdown",
   "id": "69c1231c",
   "metadata": {},
   "source": [
    "We have a $4 \\times 5$ matrix from which we want to obtain its reduced row echelon form using Gauss–Jordan elimination (GJ). As previously mentioned, there are multiple ways to reduce a matrix, but the row echelon matrix obtained must be the same for everyone. Let's begin by looking at one of the possible ways to implement the GJ method.\n",
    "\n",
    "First, take a copy of the original matrix on which we will perform elementary row operations:"
   ]
  },
  {
   "cell_type": "code",
   "execution_count": 4,
   "id": "55db737c",
   "metadata": {},
   "outputs": [],
   "source": [
    "# Copy of the matrix and shape\n",
    "A = matrix.astype(float).copy()\n",
    "m, n = matrix.shape"
   ]
  },
  {
   "cell_type": "markdown",
   "id": "38552f0e",
   "metadata": {},
   "source": [
    "where we have changed the matrix datatype in order to perform operations.\n",
    "\n",
    "The GJ method begins by taking the first row of the matrix: the first element of that row will be used to eliminate the elements below it. Let’s call `k` the index of the row we are focusing on, and `l` the index of the column where the first element of row `k` is located. These two indices will define each step of our algorithm."
   ]
  },
  {
   "cell_type": "markdown",
   "id": "fa551807",
   "metadata": {},
   "source": [
    "#### Step `k = l = 0`"
   ]
  },
  {
   "cell_type": "markdown",
   "id": "bd1db2b8",
   "metadata": {},
   "source": [
    "\n",
    "Obviously, at this step, we are taking the first row and column of the matrix, which can be schematically represented as follows:\n",
    "\n",
    "\n",
    "```plaintext\n",
    "            l = 0\n",
    "              |\n",
    "k = 0 ---> [[ 1  2  3  4  5]\n",
    "            [ 2  4  6  8 10]\n",
    "            [ 3  8  9 12 18]\n",
    "            [ 4 11 12 17 20]]\n",
    "```\n",
    "\n",
    "These two indices represent the row `row = A[k, l:]` and the column `col = A[k:, l]` of `A`, which will be useful for the operations we are going to perform:"
   ]
  },
  {
   "cell_type": "code",
   "execution_count": 5,
   "id": "e4f801b1",
   "metadata": {},
   "outputs": [],
   "source": [
    "# Prepare row and column of the matrix\n",
    "k, l = 0, 0\n",
    "col = A[k:, l]\n",
    "row = A[k, l:]"
   ]
  },
  {
   "cell_type": "markdown",
   "id": "f8aab363",
   "metadata": {},
   "source": [
    "> **Note.** It is possible that the first row we take is not very convenient and we may want to pivot with another, more manageable one. In this case, the first row has a 1 in its first element, which is one of the most convenient situations: let’s leave the pivoting problem for a later step.\n",
    "\n",
    "Now let’s perform the elementary row operations. To do this, we need to use the first row to eliminate the coefficients along column `l`. We can do this as follows:"
   ]
  },
  {
   "cell_type": "code",
   "execution_count": 6,
   "id": "987e8bd8",
   "metadata": {},
   "outputs": [
    {
     "name": "stdout",
     "output_type": "stream",
     "text": [
      "Full matrix:\n",
      "[[ 1.  2.  3.  4.  5.]\n",
      " [ 2.  4.  6.  8. 10.]\n",
      " [ 3.  8.  9. 12. 18.]\n",
      " [ 4. 11. 12. 17. 20.]]\n",
      "Block to eliminate:\n",
      "[[ 2.  4.  6.  8. 10.]\n",
      " [ 3.  8.  9. 12. 18.]\n",
      " [ 4. 11. 12. 17. 20.]]\n",
      "First coefficients:\n",
      "[[2.]\n",
      " [3.]\n",
      " [4.]]\n",
      "After the operation:\n",
      "[[1. 2. 3. 4. 5.]\n",
      " [0. 0. 0. 0. 0.]\n",
      " [0. 2. 0. 0. 3.]\n",
      " [0. 3. 0. 1. 0.]]\n"
     ]
    }
   ],
   "source": [
    "print(\"Full matrix:\")\n",
    "print(A)\n",
    "\n",
    "# Indices of the rows to be eliminated\n",
    "idx = np.arange(m)\n",
    "idx = idx[idx != k] # All rows except the one we are focusing on\n",
    "\n",
    "# Subarray and coefficients\n",
    "block = A[idx, l:]  # Subarray of the selected rows\n",
    "coef = block[:, [0]]    # First coefficients of those rows\n",
    "\n",
    "print(\"Block to eliminate:\")\n",
    "print(block)\n",
    "print(\"First coefficients:\")\n",
    "print(coef)\n",
    "\n",
    "# Operation\n",
    "A[idx, l:] = block - coef * row # Elementary row operations\n",
    "\n",
    "print(\"After the operation:\")\n",
    "print(A)"
   ]
  },
  {
   "cell_type": "markdown",
   "id": "eeec89f5",
   "metadata": {},
   "source": [
    "The final print shows that we succeed to eliminate the elements of the first column."
   ]
  },
  {
   "cell_type": "markdown",
   "id": "d8d9e3ef",
   "metadata": {},
   "source": [
    "#### Step `k = l = 1` "
   ]
  },
  {
   "cell_type": "markdown",
   "id": "143b346d",
   "metadata": {},
   "source": [
    "We now move to the second row and column of our matrix (`k = l = 1`). Again, schematically we would have:\n",
    "\n",
    "```plaintext\n",
    "             l = 1\n",
    "               |\n",
    "          [[1. 2. 3. 4. 5.]\n",
    "k = 1 -->  [0. 0. 0. 0. 0.]\n",
    "           [0. 2. 0. 0. 3.]\n",
    "           [0. 3. 0. 1. 0.]]\n",
    "```\n",
    "We take the corresponding row and column:"
   ]
  },
  {
   "cell_type": "code",
   "execution_count": 7,
   "id": "1e7e28f3",
   "metadata": {},
   "outputs": [
    {
     "name": "stdout",
     "output_type": "stream",
     "text": [
      "Row: [0. 0. 0. 0.]\n",
      "Column: [0. 2. 3.]\n"
     ]
    }
   ],
   "source": [
    "k, l = 1, 1\n",
    "col = A[k:, l]\n",
    "row = A[k, l:]\n",
    "\n",
    "print(\"Row:\", row)\n",
    "print(\"Column:\", col)"
   ]
  },
  {
   "cell_type": "markdown",
   "id": "57328b65",
   "metadata": {},
   "source": [
    "The row we are currently at is not suitable for performing operations (it's all zeros), so it will be necessary to pivot rows. The criterion we will use is the following:\n",
    "\n",
    "> Among all the nonzero elements of the column `col = A[k:, l]`, we look for the row that contains the maximum in absolute value, and we pivot this row with row `k`.\n",
    "\n",
    "In our case, the maximum value of the column `col` is `3`, which is found in row `3`, and it should be pivoted with row `k=1`. This can be done as follows:"
   ]
  },
  {
   "cell_type": "code",
   "execution_count": 8,
   "id": "0a57c71c",
   "metadata": {},
   "outputs": [
    {
     "name": "stdout",
     "output_type": "stream",
     "text": [
      "Current row:\n",
      "[0. 0. 0. 0.]\n",
      "Row to pivot with:\n",
      "[3. 0. 1. 0.]\n",
      "Matrix after pivoting:\n",
      "[[1. 2. 3. 4. 5.]\n",
      " [0. 3. 0. 1. 0.]\n",
      " [0. 2. 0. 0. 3.]\n",
      " [0. 0. 0. 0. 0.]]\n"
     ]
    }
   ],
   "source": [
    "# Indices of the nonzero elements\n",
    "nonzero_idx = col.nonzero()[0]\n",
    "\n",
    "# Index of the maximum absolute value in `col`\n",
    "abs_col = np.abs(col)\n",
    "max_nonzero_idx = nonzero_idx[np.argmax(abs_col[abs_col != 0])] \n",
    "\n",
    "# Row of the matrix where that value is found\n",
    "row_idx = max_nonzero_idx + k\n",
    "\n",
    "print(\"Current row:\")\n",
    "print(row)\n",
    "print(\"Row to pivot with:\")\n",
    "print(A[row_idx, l:])\n",
    "\n",
    "# Pivot\n",
    "A[[k, row_idx], l:] = A[[row_idx, k], l:]\n",
    "print(\"Matrix after pivoting:\")\n",
    "print(A)"
   ]
  },
  {
   "cell_type": "markdown",
   "id": "c250872e",
   "metadata": {},
   "source": [
    "Once we have pivoted the rows, it is convenient to turn the first element of row `k` into 1. This is commonly known as _normalization_ of the first element:"
   ]
  },
  {
   "cell_type": "code",
   "execution_count": 9,
   "id": "98ceb44e",
   "metadata": {},
   "outputs": [],
   "source": [
    "# Normalization of the first element\n",
    "A[k, l:] = row / row[0]"
   ]
  },
  {
   "cell_type": "markdown",
   "id": "326b2304",
   "metadata": {},
   "source": [
    "Know we perform matrix operations between rows:"
   ]
  },
  {
   "cell_type": "code",
   "execution_count": 10,
   "id": "dca637fb",
   "metadata": {},
   "outputs": [
    {
     "name": "stdout",
     "output_type": "stream",
     "text": [
      "Full matrix:\n",
      "[[1.         2.         3.         4.         5.        ]\n",
      " [0.         1.         0.         0.33333333 0.        ]\n",
      " [0.         2.         0.         0.         3.        ]\n",
      " [0.         0.         0.         0.         0.        ]]\n",
      "Block to eliminate:\n",
      "[[2. 3. 4. 5.]\n",
      " [2. 0. 0. 3.]\n",
      " [0. 0. 0. 0.]]\n",
      "First coefficients:\n",
      "[[2.]\n",
      " [2.]\n",
      " [0.]]\n",
      "After the operation:\n",
      "[[ 1.          0.          3.          3.33333333  5.        ]\n",
      " [ 0.          1.          0.          0.33333333  0.        ]\n",
      " [ 0.          0.          0.         -0.66666667  3.        ]\n",
      " [ 0.          0.          0.          0.          0.        ]]\n"
     ]
    }
   ],
   "source": [
    "print(\"Full matrix:\")\n",
    "print(A)\n",
    "\n",
    "# Indices of the rows to be eliminated\n",
    "idx = np.arange(m)\n",
    "idx = idx[idx != k] # All rows except the one we are focusing on\n",
    "\n",
    "# Subarray and coefficients\n",
    "block = A[idx, l:]  # Subarray of the selected rows\n",
    "coef = block[:, [0]]    # First coefficients of those rows\n",
    "\n",
    "print(\"Block to eliminate:\")\n",
    "print(block)\n",
    "print(\"First coefficients:\")\n",
    "print(coef)\n",
    "\n",
    "# Operation\n",
    "A[idx, l:] = block - coef * row # Elementary row operations\n",
    "\n",
    "print(\"After the operation:\")\n",
    "print(A)"
   ]
  },
  {
   "cell_type": "markdown",
   "id": "4539807b",
   "metadata": {},
   "source": [
    "#### Step `k = l = 2`"
   ]
  },
  {
   "cell_type": "markdown",
   "id": "e3919304",
   "metadata": {},
   "source": [
    "We move to column and row `k = l = 2`. Schematically, we have:\n",
    "\n",
    "```plaintext\n",
    "                              l = 2\n",
    "                                |\n",
    "     [[ 1.          0.          3.          3.33333333  5.        ]\n",
    "      [ 0.          1.          0.          0.33333333  0.        ]\n",
    "k = 2 [ 0.          0.          0.         -0.66666667  3.        ]\n",
    "      [ 0.          0.          0.          0.          0.        ]]\n",
    "```\n",
    "\n",
    "In this case, the column `col = A[k:, l]` is already full of zeros, so no operation is needed. The next step is to move one unit to the right in the column, without moving from row `k`. Since this is supposed to be an iterative algorithm, at each step we should check if our column is full of zeros:"
   ]
  },
  {
   "cell_type": "code",
   "execution_count": 11,
   "id": "e0661d4f",
   "metadata": {},
   "outputs": [
    {
     "data": {
      "text/plain": [
       "True"
      ]
     },
     "execution_count": 11,
     "metadata": {},
     "output_type": "execute_result"
    }
   ],
   "source": [
    "k, l = 2, 2\n",
    "\n",
    "col = A[k:, l]\n",
    "row = A[k, l:]\n",
    "\n",
    "# Nonzero elements\n",
    "nonzero_idx = col.nonzero()[0]\n",
    "\n",
    "# Check if columns is full of zeros\n",
    "nonzero_idx.size == 0"
   ]
  },
  {
   "cell_type": "markdown",
   "id": "b00ef95e",
   "metadata": {},
   "source": [
    "In the loop we define, this will be checked at each step. If `nonzero_idx.size == 0` holds, we move one unit to the right in the column (`l += 1`) and return to the beginning; otherwise, we continue as before."
   ]
  },
  {
   "cell_type": "markdown",
   "id": "2ee9ba9c",
   "metadata": {},
   "source": [
    "#### Step `k =2, l =3`"
   ]
  },
  {
   "cell_type": "markdown",
   "id": "7c35362b",
   "metadata": {},
   "source": [
    "We are now at row `k = 2` and column `l = 3`:\n",
    "\n",
    "```plaintext\n",
    "                                              l = 3\n",
    "                                                |\n",
    "     [[ 1.          0.          3.          3.33333333  5.        ]\n",
    "      [ 0.          1.          0.          0.33333333  0.        ]\n",
    "k = 2 [ 0.          0.          0.         -0.66666667  3.        ]\n",
    "      [ 0.          0.          0.          0.          0.        ]]\n",
    "\n",
    "```\n",
    "We take the corresponding row and column:"
   ]
  },
  {
   "cell_type": "code",
   "execution_count": 12,
   "id": "3ac0432d",
   "metadata": {},
   "outputs": [
    {
     "name": "stdout",
     "output_type": "stream",
     "text": [
      "Column: [-0.66666667  0.        ]\n",
      "Row: [-0.66666667  3.        ]\n"
     ]
    }
   ],
   "source": [
    "k, l = 2, 3\n",
    "\n",
    "col = A[k:, l]\n",
    "row = A[k, l:]\n",
    "\n",
    "print(\"Column:\", col)\n",
    "print(\"Row:\", row)"
   ]
  },
  {
   "cell_type": "markdown",
   "id": "a55ab73b",
   "metadata": {},
   "source": [
    "In this case, we do not need to pivot the row. Normalizing the row:"
   ]
  },
  {
   "cell_type": "code",
   "execution_count": 13,
   "id": "c65b9b08",
   "metadata": {},
   "outputs": [],
   "source": [
    "# Normalization of the first element\n",
    "A[k, l:] = row / row[0]"
   ]
  },
  {
   "cell_type": "markdown",
   "id": "e46a7061",
   "metadata": {},
   "source": [
    "Performing operations:"
   ]
  },
  {
   "cell_type": "code",
   "execution_count": 14,
   "id": "f6c45581",
   "metadata": {},
   "outputs": [
    {
     "name": "stdout",
     "output_type": "stream",
     "text": [
      "Full matrix:\n",
      "[[ 1.          0.          3.          3.33333333  5.        ]\n",
      " [ 0.          1.          0.          0.33333333  0.        ]\n",
      " [ 0.          0.          0.          1.         -4.5       ]\n",
      " [ 0.          0.          0.          0.          0.        ]]\n",
      "Block to eliminate:\n",
      "[[3.33333333 5.        ]\n",
      " [0.33333333 0.        ]\n",
      " [0.         0.        ]]\n",
      "First coefficients:\n",
      "[[3.33333333]\n",
      " [0.33333333]\n",
      " [0.        ]]\n",
      "After the operation:\n",
      "[[ 1.   0.   3.   0.  20. ]\n",
      " [ 0.   1.   0.   0.   1.5]\n",
      " [ 0.   0.   0.   1.  -4.5]\n",
      " [ 0.   0.   0.   0.   0. ]]\n"
     ]
    }
   ],
   "source": [
    "print(\"Full matrix:\")\n",
    "print(A)\n",
    "\n",
    "# Indices of the rows to be eliminated\n",
    "idx = np.arange(m)\n",
    "idx = idx[idx != k] # All rows except the one we are focusing on\n",
    "\n",
    "# Subarray and coefficients\n",
    "block = A[idx, l:]  # Subarray of the selected rows\n",
    "coef = block[:, [0]]    # First coefficients of those rows\n",
    "\n",
    "print(\"Block to eliminate:\")\n",
    "print(block)\n",
    "print(\"First coefficients:\")\n",
    "print(coef)\n",
    "\n",
    "# Operation\n",
    "A[idx, l:] = block - coef * row # Elementary row operations\n",
    "\n",
    "print(\"After the operation:\")\n",
    "print(A)"
   ]
  },
  {
   "cell_type": "markdown",
   "id": "4d6476c9",
   "metadata": {},
   "source": [
    "The matrix is fully reduced, so we are mostly finished."
   ]
  },
  {
   "cell_type": "markdown",
   "id": "77b52c9b",
   "metadata": {},
   "source": [
    "#### Last step"
   ]
  },
  {
   "cell_type": "markdown",
   "id": "b2647447",
   "metadata": {},
   "source": [
    "Once we have the reduced matrix, we need to count the steps (pivots) of the coefficient and augmented matrices. We can do this by looking at the indices of the nonzero elements remaining in the reduced matrix:"
   ]
  },
  {
   "cell_type": "code",
   "execution_count": 15,
   "id": "9b9c3489",
   "metadata": {},
   "outputs": [
    {
     "name": "stdout",
     "output_type": "stream",
     "text": [
      "3 3\n"
     ]
    }
   ],
   "source": [
    "# Number of steps (pivots) in the augmented matrix\n",
    "aug_s = np.unique(A.nonzero()[0]).size \n",
    "\n",
    "# Number of steps (pivots) in the coefficient matrix\n",
    "coef_s = np.unique(A[:, :-1].nonzero()[0]).size \n",
    "\n",
    "print(aug_s, coef_s)"
   ]
  },
  {
   "cell_type": "markdown",
   "id": "c174b830",
   "metadata": {},
   "source": [
    "Both steps are equal, but less than the number of unknowns (4): the system would be consistent and undetermined."
   ]
  },
  {
   "cell_type": "markdown",
   "id": "c37d79c5",
   "metadata": {},
   "source": [
    "### Fine-tuning Gauss-Jordan Method"
   ]
  },
  {
   "cell_type": "markdown",
   "id": "01cd2de5",
   "metadata": {},
   "source": [
    "The previous steps suffers from the following:\n",
    "\n",
    "> Due to limited float precision when writting a number, it is not a good practice to compare elements of the matrix directly with 0. Instead we should consider introducing some kind of tolerance, so that we can \"set to zero\" the numbers below this value.\n",
    "\n",
    "The tolerance value we should use depends of the data's context. For example, it is not the same matrix data that comes from experimental measures with a certain precision value, to data with no \"experimental\" precision associated but subject to float number precision. Is up to the user to determine which tolerance adjust better to the situation (i.e. the tolerance value that gives better results).\n",
    "\n",
    "Let's call `tol` the _tolerance_ value that allow us to adjust our method. It is direct and simple to introduce a comparison of elements with this value: we just habe to set to zero every element below `tol` on every single `(k, l)` step. In other words, we just have to introduce this line on each step:\n",
    "\n",
    "```python\n",
    "# ---- Rest of code -----\n",
    "\n",
    "A[np.abs(A) <= tol] = 0.\n",
    "\n",
    "#------ Rest of code -----\n",
    "```\n",
    "With all this in mind, we are good to go to see the final implemetation."
   ]
  },
  {
   "cell_type": "markdown",
   "id": "98c94f3f",
   "metadata": {},
   "source": [
    "### Implementation"
   ]
  },
  {
   "cell_type": "markdown",
   "id": "b91e4909",
   "metadata": {},
   "source": [
    "The previous example is a fairly complete case of the steps we may encounter when reducing a matrix: the implementation is straightforward if we follow the procedure above.\n",
    "\n",
    "In the `linalkit` package, we can find the `gj_reduction` function with its source code. This function performs Gauss-Jordan reduction on a given matrix. We present it below:\n",
    "\n",
    "| Function      | Parameters                                                                                                                                         | Return                                                                                                                                                                                                                                                                         | Notes                                                                                                                                                                                                                          |\n",
    "|---------------|----------------------------------------------------------------------------------------------------------------------------------------------------|--------------------------------------------------------------------------------------------------------------------------------------------------------------------------------------------------------------------------------------------------------------------------------|--------------------------------------------------------------------------------------------------------------------------------------------------------------------------------------------------------------------------------|\n",
    "| `gj_reduction` | - `matrix`: 2D matrix to reduce<br>- `give_syspar`: bool, if `True` returns system parameters (`False` by default)<br>- `tol`: float, tolerance for zeroing small values (`1e-12` by default) | - If `give_syspar` is `False`:<br> • reduced matrix<br>- If `True`: a tuple with:<br> • reduced matrix<br> • number of unknowns<br> • rank (stairs) of the augmented matrix<br> • rank (stairs) of the coefficient matrix | - The last column is interpreted as constants if the matrix represents a system of equations.<br>- The \"stairs\" (ranks) help analyze system compatibility.<br>- Can be used with any matrix, not necessarily a system.<br>- `tol` helps avoid numerical precision issues. |\n",
    "\n",
    "If we apply this function to the previous example we obtain:"
   ]
  },
  {
   "cell_type": "code",
   "execution_count": 16,
   "id": "d977cc2c",
   "metadata": {},
   "outputs": [
    {
     "data": {
      "text/plain": [
       "(array([[ 1. ,  0. ,  3. ,  0. , 20. ],\n",
       "        [ 0. ,  1. ,  0. ,  0. ,  1.5],\n",
       "        [ 0. ,  0. ,  0. ,  1. , -4.5],\n",
       "        [ 0. ,  0. ,  0. ,  0. ,  0. ]]),\n",
       " 4,\n",
       " 3,\n",
       " 3)"
      ]
     },
     "execution_count": 16,
     "metadata": {},
     "output_type": "execute_result"
    }
   ],
   "source": [
    "lak.gj_reduction(matrix, give_syspar=True)"
   ]
  },
  {
   "cell_type": "markdown",
   "id": "e8659b3b",
   "metadata": {},
   "source": [
    "The final result is a tuple that contains the number of unknowns and the stairs of the coefficient and augmented matrices."
   ]
  },
  {
   "cell_type": "markdown",
   "id": "52a8db3c",
   "metadata": {},
   "source": [
    "## Linear Dependence and Rank of Vectors"
   ]
  },
  {
   "cell_type": "markdown",
   "id": "ee83a0cb",
   "metadata": {},
   "source": [
    "In the context of systems of linear equations and matrices, the concept of a vector is often discussed. A _vector_ $\\vec{a}$ represents an ordered list of numbers in the following form:\n",
    "\n",
    "$$ \\vec{a} = (a_1, a_2, \\dots, a_n) $$\n",
    "\n",
    "- Each of the numbers that make up the vector $\\vec{a}$ is called a _component_. The value $a_1$ is the _first_ component; $a_2$ the _second_ component; and so on. In this case, $\\vec{a}$ is a vector with $n$ components.\n",
    "\n",
    "- Two vectors $\\vec{a}$ and $\\vec{b}$ with $n$ components are said to be _equal_ if they are equal component by component. That is,\n",
    "$$\\vec{a} = \\vec{b} \\quad \\Leftrightarrow \\quad a_1 = b_1, a_2 = b_2, \\dots, a_n = b_n$$ \n",
    "\n",
    "We define two operations on vectors:\n",
    "- **Addition**\n",
    "\n",
    "    Given two vectors $\\vec{a} = (a_1, a_2, \\dots, a_n)$ and $\\vec{b} = (b_1, b_2, \\dots, b_n)$, their sum is the vector:\n",
    "\n",
    "    $$\n",
    "    \\vec{a} + \\vec{b} = (a_1 + b_1,\\, a_2 + b_2,\\, \\dots,\\, a_n + b_n)\n",
    "    $$\n",
    "\n",
    "- **Scalar multiplication**\n",
    "\n",
    "    Given a scalar $\\lambda$ and a vector $\\vec{a} = (a_1, a_2, \\dots, a_n)$, the product is:\n",
    "\n",
    "    $$\n",
    "    \\lambda \\vec{a} = (\\lambda a_1,\\, \\lambda a_2,\\, \\dots,\\, \\lambda a_n)\n",
    "    $$\n",
    "\n",
    "These two operations satisfy the following properties related to associativity and distributivity:\n",
    "\n",
    "| Property                                         | Mathematical expression                                      | Name/Description                                 |\n",
    "|--------------------------------------------------|--------------------------------------------------------------|--------------------------------------------------|\n",
    "| Associativity of addition                        | $\\vec{a} + (\\vec{b} + \\vec{c}) = (\\vec{a} + \\vec{b}) + \\vec{c}$ | Vector addition is associative                   |\n",
    "| Commutativity of addition                        | $\\vec{a} + \\vec{b} = \\vec{b} + \\vec{a}$                     | Vector addition is commutative                   |\n",
    "| Additive identity                                | $\\vec{a} + \\vec{0} = \\vec{a}$                               | There exists a zero vector that does not alter the sum |\n",
    "| Additive inverse                                 | $\\vec{a} + (-\\vec{a}) = \\vec{0}$                            | Every vector has an additive inverse             |\n",
    "| Associativity of scalar multiplication           | $\\lambda(\\mu\\vec{a}) = (\\lambda\\mu)\\vec{a}$                  | Scalar multiplication is associative             |\n",
    "| Multiplicative identity for scalars              | $1\\cdot\\vec{a} = \\vec{a}$                                   | 1 is the identity for scalar multiplication      |\n",
    "| Distributivity over vector addition              | $\\lambda(\\vec{a} + \\vec{b}) = \\lambda\\vec{a} + \\lambda\\vec{b}$ | Scalar multiplication distributes over vector addition |\n",
    "| Distributivity over scalar addition              | $(\\lambda + \\mu)\\vec{a} = \\lambda\\vec{a} + \\mu\\vec{a}$      | Scalar addition distributes over vector multiplication |\n",
    "\n",
    "Vectors can be found, for example, in the rows and columns of a matrix. Given a matrix $A$ of size $m \\times n$ of the form \n",
    "\n",
    "$$\n",
    "A = \\begin{pmatrix}\n",
    "a_{11} & a_{12} & \\cdots & a_{1n} \\\\\n",
    "a_{21} & a_{22} & \\cdots & a_{2n} \\\\\n",
    "\\vdots & \\vdots & \\ddots & \\vdots \\\\\n",
    "a_{m1} & a_{m2} & \\cdots & a_{mn}\n",
    "\\end{pmatrix}\n",
    "$$\n",
    "\n",
    "its rows and columns form vectors of $n$ and $m$ components, respectively. The row vectors can be denoted as:\n",
    "$$ \n",
    "\\begin{aligned}\n",
    "    &\\vec{r}_1 = \\begin{pmatrix} a_{11} & a_{12} & \\dots & a_{1n} \\end{pmatrix} \\\\\n",
    "    &\\vec{r}_2 = \\begin{pmatrix} a_{21} & a_{22} & \\dots & a_{2n} \\end{pmatrix} \\\\\n",
    "    & \\qquad \\qquad \\qquad \\vdots \\\\\n",
    "    &\\vec{r}_m = \\begin{pmatrix} a_{m1} & a_{m2} & \\dots & a_{mn} \\end{pmatrix}\n",
    "\\end{aligned}\n",
    "$$\n",
    "and the column vectors as:\n",
    "$$\n",
    "\\vec{c}_1 = \\begin{pmatrix} a_{11} \\\\ a_{21} \\\\ \\vdots \\\\ a_{m1} \\end{pmatrix}, \\quad\n",
    "\\vec{c}_2 = \\begin{pmatrix} a_{12} \\\\ a_{22} \\\\ \\vdots \\\\ a_{m2} \\end{pmatrix}, \\quad\n",
    "\\cdots, \\quad\n",
    "\\vec{c}_n = \\begin{pmatrix} a_{1n} \\\\ a_{2n} \\\\ \\vdots \\\\ a_{mn} \\end{pmatrix}\n",
    "$$\n",
    "\n",
    "We will also see that the solution to a system of equations can be given in vector notation.\n",
    "\n",
    "With all this in mind, we can move on to study the concept of linear dependence and rank among vectors.n el contexto de sistemas de ecuaciones lineales y matrices, se suele hablar del concepto de vector. \n"
   ]
  },
  {
   "cell_type": "markdown",
   "id": "d144a3bb",
   "metadata": {},
   "source": [
    "### Linear Dependence"
   ]
  },
  {
   "cell_type": "markdown",
   "id": "6c76cbb2",
   "metadata": {},
   "source": [
    "Consider a set of $n$ vectors $\\left\\{ \\vec{a}_i \\right\\}_{i=1}^n$ of $m$ components. We say we perform a _linear combination_ of the vectors if we have an expression of the form\n",
    "$$c_1 \\vec{a}_1 + c_2 \\vec{a}_2 + \\cdots + c_n \\vec{a}_n, \\quad c_i \\in \\mathbb{R}\\ (i=1,\\dots,n)$$\n",
    "which is simply a combined operation of the given vectors that generates a new vector.\n",
    "\n",
    "In this context, we usually encounter two situations for our set of vectors.\n",
    "\n",
    "> 1. Linear dependence\n",
    ">\n",
    ">     A set of vectors $\\left\\{ \\vec{a}_i \\right\\}_{i=1}^n$ is said to be _linearly dependent_ if there exist $n$ real values $c_i$ (not all zero) such that \n",
    "> $$c_1 \\vec{a}_1 + c_2 \\vec{a}_2 + \\cdots + c_n \\vec{a}_n = \\vec{0}$$\n",
    ">\n",
    "> 2. Linear independence\n",
    ">\n",
    ">       A set of vectors $\\left\\{ \\vec{a}_i \\right\\}_{i=1}^n$ is said to be _linearly independent_ if it is not linearly dependent. That is,\n",
    "> $$\\text{If}\\quad c_1 \\vec{a}_1 + c_2 \\vec{a}_2 + \\cdots + c_n \\vec{a}_n = \\vec{0} \\quad \\Rightarrow \\quad c_i=0 \\quad \\forall i=1,\\dots,n$$\n",
    "\n",
    "Checking whether a set of vectors is linearly dependent or not is quite straightforward according to this definition. For a set of $n$ vectors of $m$ components:\n",
    "\n",
    "1. **State the condition for linear dependence**\n",
    "\n",
    "    That is, set up a zero linear combination of the vectors as\n",
    "    $$c_1 \\vec{a}_1 + c_2 \\vec{a}_2 + c_3 \\vec{a}_3 + \\cdots + c_n \\vec{a}_n = \\vec{0}$$\n",
    "    From here, it is more convenient to write everything in matrix notation. Thus, the above is equivalent to writing:\n",
    "    $$\n",
    "    c_1\n",
    "    \\begin{pmatrix}\n",
    "    a_{11} \\\\ a_{21} \\\\ \\vdots \\\\ a_{m1}\n",
    "    \\end{pmatrix}\n",
    "    + c_2\n",
    "    \\begin{pmatrix}\n",
    "    a_{12} \\\\ a_{22} \\\\ \\vdots \\\\ a_{m2}\n",
    "    \\end{pmatrix}\n",
    "    + \\cdots +\n",
    "    c_n\n",
    "    \\begin{pmatrix}\n",
    "    a_{1n} \\\\ a_{2n} \\\\ \\vdots \\\\ a_{mn}\n",
    "    \\end{pmatrix}\n",
    "    =\n",
    "    \\begin{pmatrix}\n",
    "    c_1 a_{11} + c_2 a_{12} + \\cdots + c_n a_{1n} \\\\\n",
    "    c_1 a_{21} + c_2 a_{22} + \\cdots + c_n a_{2n} \\\\\n",
    "    \\vdots \\\\\n",
    "    c_1 a_{m1} + c_2 a_{m2} + \\cdots + c_n a_{mn}\n",
    "    \\end{pmatrix}\n",
    "    =\n",
    "    \\begin{pmatrix}\n",
    "    0 \\\\ 0 \\\\ \\vdots \\\\ 0\n",
    "    \\end{pmatrix}\n",
    "    $$\n",
    "    Equating component by component, this results in a homogeneous system of $m$ equations and $n$ unknowns (the values $c_i$):\n",
    "    $$\n",
    "    \\begin{cases}\n",
    "    a_{11} c_1 + a_{12} c_2 + \\cdots + a_{1n} c_n = 0 \\\\\n",
    "    a_{21} c_1 + a_{22} c_2 + \\cdots + a_{2n} c_n = 0 \\\\\n",
    "    \\qquad \\qquad \\qquad \\quad \\vdots \\\\\n",
    "    a_{m1} c_1 + a_{m2} c_2 + \\cdots + a_{mn} c_n = 0\n",
    "    \\end{cases}\n",
    "    $$\n",
    "\n",
    "2. **Reduce the system**\n",
    "\n",
    "    The matrix of the previous system is easy to obtain directly. Note that it is enough to place the vectors $\\vec{a}_i$ in columns, so we would have to reduce the matrix\n",
    "    $$\n",
    "    \\begin{pmatrix}\n",
    "    a_{11} & a_{12} & \\cdots & a_{1n} \\\\\n",
    "    a_{21} & a_{22} & \\cdots & a_{2n} \\\\\n",
    "    \\vdots & \\vdots &        & \\vdots \\\\\n",
    "    a_{m1} & a_{m2} & \\cdots & a_{mn}\n",
    "    \\end{pmatrix}\n",
    "    $$\n",
    "     Here we can have only two possible cases:\n",
    "\n",
    "    - The system is consistent and determined. In this case, the only solution is that all $c_i$ are zero.\n",
    "\n",
    "    - The system is consistent and undetermined. There exist nonzero solutions for the coefficients $c_i$.\n",
    "\n",
    "3. **Interpretation/Conclusion**\n",
    "\n",
    "    - If the system is determined with solution $c_i=0$, this means the vectors are linearly independent.\n",
    "\n",
    "    - If the system is undetermined, there exist nonzero solutions for the $c_i$, in which case the vectors are linearly dependent.\n",
    "\n",
    "This reasoning suggests using the `gj_reduction` function again to simply distinguish whether the system generated by the vectors is consistent and determined or not. \n",
    "\n",
    "The next example serves to clarify the intentions mentioned.\n"
   ]
  },
  {
   "cell_type": "markdown",
   "id": "3c21f0ee",
   "metadata": {},
   "source": [
    "#### Working example"
   ]
  },
  {
   "cell_type": "markdown",
   "id": "fef129bb",
   "metadata": {},
   "source": [
    "We want to check the linear dependence of the following set of vectors:"
   ]
  },
  {
   "cell_type": "code",
   "execution_count": 17,
   "id": "6e7d71ed",
   "metadata": {},
   "outputs": [],
   "source": [
    "# Linearly dependent set of vectors\n",
    "v1 = np.array([1, 2, 3])\n",
    "v2 = np.array([2, 4, 6])\n",
    "v3 = np.array([3, 6, 9])\n",
    "v4 = np.array([4, 5, 6])\n",
    "\n",
    "vectors_set = (v1, v2, v3, v4)"
   ]
  },
  {
   "cell_type": "markdown",
   "id": "397c2d90",
   "metadata": {},
   "source": [
    "The above is a set of four linearly dependent vectors. To check this, we construct the matrix associated with the system generated by the vectors:"
   ]
  },
  {
   "cell_type": "code",
   "execution_count": 18,
   "id": "747c4c86",
   "metadata": {},
   "outputs": [
    {
     "data": {
      "text/plain": [
       "array([[1., 2., 3., 4.],\n",
       "       [2., 4., 6., 5.],\n",
       "       [3., 6., 9., 6.]])"
      ]
     },
     "execution_count": 18,
     "metadata": {},
     "output_type": "execute_result"
    }
   ],
   "source": [
    "# Matrix with the vectors in columns\n",
    "\n",
    "# Set size and vectors size\n",
    "n = len(vectors_set)\n",
    "m = len(v1)\n",
    "\n",
    "# Build matrix\n",
    "matrix = np.empty((m, n))\n",
    "k = 0\n",
    "for v in vectors_set:\n",
    "    matrix[:, k] = v\n",
    "    k += 1\n",
    "    \n",
    "matrix"
   ]
  },
  {
   "cell_type": "markdown",
   "id": "16bdc865",
   "metadata": {},
   "source": [
    "Finally we apply the `gj_reduction` to study the solution of the system:"
   ]
  },
  {
   "cell_type": "code",
   "execution_count": 19,
   "id": "803c6b86",
   "metadata": {},
   "outputs": [
    {
     "data": {
      "text/plain": [
       "(array([[1., 2., 3., 0.],\n",
       "        [0., 0., 0., 1.],\n",
       "        [0., 0., 0., 0.]]),\n",
       " 3,\n",
       " 2,\n",
       " 1)"
      ]
     },
     "execution_count": 19,
     "metadata": {},
     "output_type": "execute_result"
    }
   ],
   "source": [
    "lak.gj_reduction(matrix, give_syspar=True)"
   ]
  },
  {
   "cell_type": "markdown",
   "id": "8982dce7",
   "metadata": {},
   "source": [
    "Here we have to keep in mind a small detail: the function is designed to receive the augmented matrix of the system, and we have only provided the coefficient matrix. This does not pose any problem in the final reduction, because the system of vectors is homogeneous, and the last column consists of zeros. However, now the number of steps (pivots) we are interested in is that of the complete (augmented) matrix; that is, we have to look at the value of `aug_s` and compare it with `unknowns + 1`. The value of `coef_s` does not make sense in this case.\n",
    "\n",
    "For this reason, to avoid this distinction, it is better to add a column of zeros to our system matrix, so that the function's values all have their proper meaning."
   ]
  },
  {
   "cell_type": "code",
   "execution_count": 20,
   "id": "62b44d78",
   "metadata": {},
   "outputs": [
    {
     "data": {
      "text/plain": [
       "array([[1., 2., 3., 4., 0.],\n",
       "       [2., 4., 6., 5., 0.],\n",
       "       [3., 6., 9., 6., 0.]])"
      ]
     },
     "execution_count": 20,
     "metadata": {},
     "output_type": "execute_result"
    }
   ],
   "source": [
    "matrix = np.hstack((matrix, np.zeros(m)[:, np.newaxis]))\n",
    "matrix"
   ]
  },
  {
   "cell_type": "code",
   "execution_count": 21,
   "id": "c5f151b8",
   "metadata": {},
   "outputs": [
    {
     "data": {
      "text/plain": [
       "(array([[1., 2., 3., 0., 0.],\n",
       "        [0., 0., 0., 1., 0.],\n",
       "        [0., 0., 0., 0., 0.]]),\n",
       " 4,\n",
       " 2,\n",
       " 2)"
      ]
     },
     "execution_count": 21,
     "metadata": {},
     "output_type": "execute_result"
    }
   ],
   "source": [
    "lak.gj_reduction(matrix, give_syspar=True)"
   ]
  },
  {
   "cell_type": "markdown",
   "id": "fa61921d",
   "metadata": {},
   "source": [
    "Now the number of steps `exp_s` and `coef_s` match, as they should (homogeneous systems are always consistent). So, we just need to compare the number of unknowns with the number of steps: in our case, $4 = n > p = 2$, so the system is underdetermined. We conclude that the vectors are linearly dependent.\n",
    "\n"
   ]
  },
  {
   "cell_type": "markdown",
   "id": "9c9a2fb0",
   "metadata": {},
   "source": [
    "### Rank of a set of vectors"
   ]
  },
  {
   "cell_type": "markdown",
   "id": "68b63417",
   "metadata": {},
   "source": [
    "The next natural step after studying linear dependence among vectors is to determine how many and which of them are linearly independent. This way, we will have all the information about the set: some vectors will be independent, and others will be generated by the others.\n",
    "\n",
    "What we want to study is, precisely, the concept of rank.\n",
    "\n",
    "> Rank of a set of vectors\n",
    ">\n",
    "> Given a set of $n$ vectors with $m$ components $S = \\left\\{\\vec{a}_i\\right\\}_{i=1}^n$, we call the _rank of the set of vectors_, denoted by $r(S)$, the maximum number of linearly independent vectors among them.\n",
    "\n",
    "How do we find the rank of a set of vectors? In the previous section, we already saw how to study the dependence of a set of vectors. To do this, we had to:\n",
    "\n",
    "- Write the matrix generated by the vectors (colocating them in columns).\n",
    "- Reduce the previous matrix.\n",
    "- Study the compatibility and draw a conclusion.\n",
    "\n",
    "If we do this for all the subsets of vectors we can form, we would eventually find the rank. This can be quite lengthy even for relatively small sets. Fortunately, we will now see that it is only necessary to study the dependence of the complete set once.\n",
    "\n",
    "Let's start by considering the matrix formed by the set of vectors (when we pose the linear dependence with all of them)\n",
    "$$\n",
    "\\begin{pmatrix}\n",
    "a_{11} & a_{12} & \\cdots & a_{1n} \\\\\n",
    "a_{21} & a_{22} & \\cdots & a_{2n} \\\\\n",
    "\\vdots & \\vdots &        & \\vdots \\\\\n",
    "a_{m1} & a_{m2} & \\cdots & a_{mn}\n",
    "\\end{pmatrix}\n",
    "$$\n",
    "According to what we said before, we would proceed as follows:\n",
    "\n",
    "- Reduce the complete matrix\n",
    "    - If it is determined, the rank is $n$\n",
    "    - If it is undetermined, the rank is less than $n$ and we move to the next step.\n",
    "- Reduce all the submatrices of $n-1$ vectors\n",
    "    - If any of them is determined, the rank is $n-1$\n",
    "    - If it is undetermined, the rank is less than $n-1$ and we move to the next step.\n",
    "- We repeat this process indefinitely until we obtain the first subset that is linearly independent.\n",
    "\n",
    "All this process can be done just by reducing the complete matrix. The key here is to realize that the operations we have performed on the complete matrix are the same as those we would have to do on any subset we consider from the matrix. Therefore, if we want to know the reduced matrix of a particular subset of vectors, we just have to look for the columns associated with those vectors in the fully reduced matrix: at a glance, we can see if those vectors produce a determined or undetermined system.\n",
    "\n",
    "If we take a look at the fully reduced matrix\n",
    "\n",
    "<p align=\"center\">\n",
    "    <img src=\"../figures/fig_reduced_matrix.svg\" alt=\"Reduced row echelon matrix\" width=25%/>\n",
    "</p>\n",
    "\n",
    "we can directly see that if we choose the vectors (columns) that form the pivots (steps) of the matrix, we directly obtain a determined system: those vectors would be linearly independent. This subset would not be the only linearly independent one; we can find more vectors that generate a determined system, but at most, the rank we obtain will be equal to the number of pivots in the matrix.\n",
    "\n",
    "> The rank of a set of vectors matches the number of pivots (steps) in the reduced matrix generated by those vectors.\n",
    "\n",
    "- The independent vectors are obtained by choosing the columns of the reduced matrix that generate a determined system. Specifically, the simplest linearly independent set is formed by the vectors (columns) that contain the pivots of the reduced matrix.\n",
    "\n",
    "We now have the procedure to follow to obtain the rank of a set of vectors and a linearly independent subset."
   ]
  },
  {
   "cell_type": "markdown",
   "id": "f414f694",
   "metadata": {},
   "source": [
    "#### Working example"
   ]
  },
  {
   "cell_type": "markdown",
   "id": "cc74bdb6",
   "metadata": {},
   "source": [
    "Let's consider the same example of the last section:"
   ]
  },
  {
   "cell_type": "code",
   "execution_count": 22,
   "id": "ca0f5cc9",
   "metadata": {},
   "outputs": [],
   "source": [
    "v1 = np.array([1, 2, 3])\n",
    "v2 = np.array([2, 4, 6])\n",
    "v3 = np.array([3, 6, 9])\n",
    "v4 = np.array([4, 5, 6])\n",
    "\n",
    "vectors_set = (v1, v2, v3, v4)"
   ]
  },
  {
   "cell_type": "markdown",
   "id": "83f4b8b3",
   "metadata": {},
   "source": [
    "Ya comprobamos en el apartado anterior que este conjunto de vectores es linealmente dependiente:"
   ]
  },
  {
   "cell_type": "code",
   "execution_count": null,
   "id": "63c0a30e",
   "metadata": {},
   "outputs": [
    {
     "name": "stdout",
     "output_type": "stream",
     "text": [
      "Linearly dependent set\n"
     ]
    }
   ],
   "source": [
    "check_ld(*vectors_set)"
   ]
  },
  {
   "cell_type": "markdown",
   "id": "9035dd50",
   "metadata": {},
   "source": [
    "Ahora queremos obtener el rango de este conjunto y un subconjunto linealmente independiente. Para esto podemos usar de nuevo la información que nos proporciona la función `gj_reduction`:\n",
    "\n",
    "- De la matriz reducida obtenemos el número de peldaños, que sería el rango.\n",
    "- De la matriz reducida también podemos obtener las columnas que continen los peldaños.\n",
    "\n",
    "Veamos cómo se realiza esto:"
   ]
  },
  {
   "cell_type": "code",
   "execution_count": null,
   "id": "89608ba1",
   "metadata": {},
   "outputs": [
    {
     "name": "stdout",
     "output_type": "stream",
     "text": [
      "Sistema generado por los vectores: \n",
      " [[1. 2. 3. 4. 0.]\n",
      " [2. 4. 6. 5. 0.]\n",
      " [3. 6. 9. 6. 0.]]\n",
      "Sistema reducido: \n",
      " [[ 1.  2.  3.  0.  0.]\n",
      " [ 0.  0.  0.  1. -0.]\n",
      " [ 0.  0.  0.  0.  0.]]\n",
      "Rango: 2\n",
      "Conjunto independiente: \n",
      " (array([1, 2, 3]), array([4, 5, 6]))\n"
     ]
    }
   ],
   "source": [
    "# Construimos el sistema homogéneo generado por los vectores\n",
    "m, n = len(vectors_set[0]), len(vectors_set)\n",
    "matrix = np.zeros((m, n+1))\n",
    "for k, v in enumerate(vectors_set):\n",
    "    matrix[:, k] = v\n",
    "print(\"Sistema generado por los vectores: \\n\", matrix)\n",
    "\n",
    "# Reducimos el sistema por GJ\n",
    "A, unknows, stairs, s = gj_reduction(matrix)\n",
    "print(\"Sistema reducido: \\n\", A)\n",
    "\n",
    "# 1. Guardamos el valor del rango\n",
    "\n",
    "r = stairs\n",
    "\n",
    "# 2. Buscamos las columnas que continen los peldaños\n",
    "\n",
    "nonzero_idx = np.asarray(A.nonzero())\n",
    "stairs_idx = np.array([nonzero_idx[1, 0]] + [ \n",
    "    nonzero_idx[1, k+1]\n",
    "    for k in range(len(nonzero_idx[0]) - 1)\n",
    "    if nonzero_idx[0][k+1] != nonzero_idx[0][k]\n",
    "    ])  # Identificamos cuando cambia el índice de las filas para guardar el de las columnas\n",
    "\n",
    "# 3. Damos el conjunto de vectores linealmente independiente\n",
    "indp_set = np.asarray(vectors_set)[stairs_idx]\n",
    "indp_set = tuple(indp_set)\n",
    "\n",
    "print(\"Rango:\", r)\n",
    "print(\"Conjunto independiente: \\n\", indp_set)"
   ]
  },
  {
   "cell_type": "markdown",
   "id": "b2e560d6",
   "metadata": {},
   "source": [
    "Definamos la función que sigue este procedimiento:"
   ]
  },
  {
   "cell_type": "code",
   "execution_count": null,
   "id": "e2c61193",
   "metadata": {},
   "outputs": [],
   "source": [
    "def vectors_range(*vectors_set: np.ndarray, give_set: bool=False) -> tuple:\n",
    "    \"\"\"\n",
    "    Gives the range of a given vector set, i.e. the maximum number of independent \n",
    "    vectors. If specified, it also gives an independent subset of vectors of size\n",
    "    equal the range of the set.\n",
    "\n",
    "    Parameters\n",
    "    ----------\n",
    "    `vectors_set`: array_like\n",
    "        1D arrays with the vectors we want to study\n",
    "\n",
    "    `give_set`: bool\n",
    "        If set to True, it gives an independent subset of vector of size equal the\n",
    "        range of the set. Default False.\n",
    "\n",
    "    Returns\n",
    "    -------\n",
    "    A tuple with the following elements:\n",
    "\n",
    "    `r`: int\n",
    "        The range value of the vectors set.\n",
    "\n",
    "    `indp_set`: tuple\n",
    "        A tuple with the independent subset of vectors of size equal the range.\n",
    "    \"\"\"\n",
    "\n",
    "    # We build the homogeneous system generated by the vectors set\n",
    "    m, n = len(vectors_set[0]), len(vectors_set)\n",
    "    matrix = np.zeros((m, n+1))\n",
    "    for k, v in enumerate(vectors_set):\n",
    "        matrix[:, k] = v\n",
    "\n",
    "    # Reduce the matrix\n",
    "    A, unknows, stairs, s = gj_reduction(matrix)\n",
    "\n",
    "    # 1. Save range value\n",
    "\n",
    "    r = stairs\n",
    "\n",
    "    # 2. Stairs's columns\n",
    "\n",
    "    nonzero_idx = np.asarray(A.nonzero())\n",
    "    stairs_idx = np.array([nonzero_idx[1, 0]] + [ \n",
    "        nonzero_idx[1, k+1]\n",
    "        for k in range(len(nonzero_idx[0]) - 1)\n",
    "        if nonzero_idx[0][k+1] != nonzero_idx[0][k]\n",
    "        ])  \n",
    "\n",
    "    # 3. Indpendent set if needed\n",
    "    if give_set == True:\n",
    "        indp_set = np.asarray(vectors_set)[stairs_idx]\n",
    "        indp_set = tuple(indp_set)\n",
    "        return r, indp_set\n",
    "    else:\n",
    "        return r"
   ]
  },
  {
   "cell_type": "markdown",
   "id": "809c88a1",
   "metadata": {},
   "source": [
    "Aplicado al mismo ejemplo anterior obtenemos:"
   ]
  },
  {
   "cell_type": "code",
   "execution_count": null,
   "id": "91c4ca71",
   "metadata": {},
   "outputs": [
    {
     "data": {
      "text/plain": [
       "(2, (array([1, 2, 3]), array([4, 5, 6])))"
      ]
     },
     "metadata": {},
     "output_type": "display_data"
    }
   ],
   "source": [
    "vectors_range(*vectors_set, give_set=True)"
   ]
  },
  {
   "cell_type": "markdown",
   "id": "ffef6ce1",
   "metadata": {},
   "source": [
    "### Rango de una matriz"
   ]
  },
  {
   "cell_type": "markdown",
   "id": "c6757af2",
   "metadata": {},
   "source": [
    "Pasemos ahora a específicar qué es el rango de una matriz.\n",
    "\n",
    "> Rango de una matriz\n",
    "> \n",
    "> El _rango de una matriz_ $A$, denotado por $r(A)$, es el rango de sus vectores columna.\n",
    "\n",
    "Por tanto, podemos utilizar todo lo aprendido en el apartado anterior para calcular el rango de una matriz. Tan solo habría que aplicarlo a sus vectores columna.\n",
    "\n",
    "Consideremos la siguiente matriz:"
   ]
  },
  {
   "cell_type": "code",
   "execution_count": null,
   "id": "365b33a4",
   "metadata": {},
   "outputs": [
    {
     "data": {
      "text/plain": [
       "array([[1, 2, 3, 4],\n",
       "       [0, 1, 1, 1],\n",
       "       [1, 4, 5, 6]])"
      ]
     },
     "metadata": {},
     "output_type": "display_data"
    }
   ],
   "source": [
    "matrix = np.array([[1, 2, 3, 4],\n",
    "                   [0, 1, 1, 1],\n",
    "                   [1, 4, 5, 6]])\n",
    "matrix"
   ]
  },
  {
   "cell_type": "markdown",
   "id": "d76095f2",
   "metadata": {},
   "source": [
    "Tomemos sus vectores columna y planteemos su dependencia lineal a través de su sistema homogéneo asociado. En este caso, los vectores ya están en columnas!! Solo queda reducir la matriz y dar el valor del rango:"
   ]
  },
  {
   "cell_type": "code",
   "execution_count": null,
   "id": "92ec9205",
   "metadata": {},
   "outputs": [
    {
     "name": "stdout",
     "output_type": "stream",
     "text": [
      "Matriz reducida: \n",
      " [[1. 0. 1. 2. 0.]\n",
      " [0. 1. 1. 1. 0.]\n",
      " [0. 0. 0. 0. 0.]]\n",
      "Rango: 2\n"
     ]
    }
   ],
   "source": [
    "m, n = matrix.shape\n",
    "matrix = np.hstack((matrix, np.zeros(m)[:, np.newaxis]))\n",
    "A, unknows, stairs, s = gj_reduction(matrix)\n",
    "print(\"Matriz reducida: \\n\", A)\n",
    "\n",
    "# Rango\n",
    "r = stairs\n",
    "\n",
    "print(\"Rango:\", r)"
   ]
  },
  {
   "cell_type": "markdown",
   "id": "accf1f36",
   "metadata": {},
   "source": [
    "También podemos dar una submatriz cuyo rango sea el anterior tomando las columnas de los peldaños:"
   ]
  },
  {
   "cell_type": "code",
   "execution_count": null,
   "id": "bb5f65e7",
   "metadata": {},
   "outputs": [
    {
     "data": {
      "text/plain": [
       "array([[1., 2.],\n",
       "       [0., 1.],\n",
       "       [1., 4.]])"
      ]
     },
     "metadata": {},
     "output_type": "display_data"
    }
   ],
   "source": [
    "nonzero_idx = np.asarray(A.nonzero())\n",
    "stairs_idx = np.array([nonzero_idx[1, 0]] + [ \n",
    "    nonzero_idx[1, k+1]\n",
    "    for k in range(len(nonzero_idx[0]) - 1)\n",
    "    if nonzero_idx[0][k+1] != nonzero_idx[0][k]\n",
    "    ])\n",
    "\n",
    "submatrix = matrix[:, stairs_idx]\n",
    "submatrix"
   ]
  },
  {
   "cell_type": "markdown",
   "id": "9b6909c2",
   "metadata": {},
   "source": [
    "En el contexto de rango de matrices, sin embargo, es más común hablar del rango de los vectores fila de una matriz, porque suelen representar sistemas de ecuaciones para los que queremos saber cuales son linealmente independientes. Casualmente, da igual si calculas el rango de las filas o las columnas de una matriz, porque acabas obteniendo el mismo número.\n",
    "\n",
    "> El rango de los vectores fila de una matriz coincide con el rango de los vectores columna.\n",
    "\n",
    "Sin entrar en mucho más detalle, pensar que cuando estudiamos el rango de los vectores columna, y reducimos la matriz, estamos realizando operaciones elementales entre las filas: estos son, combinaciones lineales de las filas. Algunas de ellas se anulan (filas dependientes), mientras que otras sobreviven (filas independientes) formando los peldaños de la matriz reducida. Es por esto que acabamos obteniendo el mismo rango que los vectores columna.\n",
    "\n",
    "Por completitud, demos ahora la función que calcula el rango de una matriz:"
   ]
  },
  {
   "cell_type": "code",
   "execution_count": null,
   "id": "c8b647aa",
   "metadata": {},
   "outputs": [],
   "source": [
    "def matrix_range(matrix: np.ndarray, give_submatrix: bool=False) -> tuple:\n",
    "    \"\"\"\n",
    "    Returns the range of the given matrix. If specified, it also gives a\n",
    "    submatrix with independent columns with the same range.\n",
    "\n",
    "    Parameters\n",
    "    ----------\n",
    "    `matrix`: ndarray\n",
    "        2D array representing the matrix we want to study.\n",
    "    `give_submatrix`: bool\n",
    "        If set to True, it gives gives a submatrix with independent columns \n",
    "        with same range. Default False.\n",
    "\n",
    "    Returns\n",
    "    -------\n",
    "    A tuple with the following objects:\n",
    "\n",
    "    `r`: int\n",
    "        Range value of the matrix.\n",
    "    `submatrix`: ndarray\n",
    "        2D array of independent columns of the matrix.\n",
    "    \"\"\"\n",
    "    \n",
    "    # Reduce the given matrix\n",
    "    m, n = matrix.shape\n",
    "    matrix = np.hstack((matrix, np.zeros(m)[:, np.newaxis]))\n",
    "    A, unknows, stairs, s = gj_reduction(matrix)\n",
    "\n",
    "    # Give range\n",
    "    r = stairs\n",
    "\n",
    "    # Give submatrix\n",
    "    if give_submatrix == True:\n",
    "        nonzero_idx = np.asarray(A.nonzero())\n",
    "        stairs_idx = np.array([nonzero_idx[1, 0]] + [ \n",
    "            nonzero_idx[1, k+1]\n",
    "            for k in range(len(nonzero_idx[0]) - 1)\n",
    "            if nonzero_idx[0][k+1] != nonzero_idx[0][k]\n",
    "            ])\n",
    "        submatrix = matrix[:, stairs_idx]\n",
    "        return r, submatrix\n",
    "    else:\n",
    "        return r\n"
   ]
  },
  {
   "cell_type": "markdown",
   "id": "c9629b48",
   "metadata": {},
   "source": [
    "Aplicado al ejemplo anterior:"
   ]
  },
  {
   "cell_type": "code",
   "execution_count": null,
   "id": "b8343ad8",
   "metadata": {},
   "outputs": [
    {
     "data": {
      "text/plain": [
       "(2,\n",
       " array([[1., 2.],\n",
       "        [0., 1.],\n",
       "        [1., 4.]]))"
      ]
     },
     "metadata": {},
     "output_type": "display_data"
    }
   ],
   "source": [
    "matrix = np.array([[1, 2, 3, 4],\n",
    "                   [0, 1, 1, 1],\n",
    "                   [1, 4, 5, 6]])\n",
    "\n",
    "matrix_range(matrix, give_submatrix=True)"
   ]
  },
  {
   "cell_type": "markdown",
   "id": "432fe987",
   "metadata": {},
   "source": [
    "Es posible que no nos interese conocer la submatriz de columnas linealmente independientes, sino las filas. En este caso, podríamos quedarnos con las filas que sobreviven después de reducir la matriz. Sin embargo, este enfoque requiere seguir las filas que sobreviven en cada paso que demos en la reducción: si pivotamos las filas, su posición final no se corresponderá con la inicial en general. Para evitar esto, sencillamente trasponemos la matriz y realizamos un estudio idéntico sobre esta matriz:"
   ]
  },
  {
   "cell_type": "code",
   "execution_count": null,
   "id": "946343f1",
   "metadata": {},
   "outputs": [
    {
     "name": "stdout",
     "output_type": "stream",
     "text": [
      "Filas linealmente independientes:\n",
      "[[1. 0. 1. 0.]\n",
      " [2. 1. 4. 0.]\n",
      " [3. 1. 5. 0.]\n",
      " [4. 1. 6. 0.]]\n",
      "[[1. 2. 3. 4.]\n",
      " [0. 1. 1. 1.]]\n"
     ]
    }
   ],
   "source": [
    "# Trasponemos la matriz\n",
    "row_matrix = matrix.T\n",
    "row_matrix = np.hstack((row_matrix, np.zeros(len(row_matrix))[:, np.newaxis]))\n",
    "\n",
    "# Reducimos la matriz\n",
    "A, unknows, stairs, s = gj_reduction(row_matrix)\n",
    "\n",
    "# Damos las filas linealmente independientes \n",
    "nonzero_idx = np.asarray(A.nonzero())\n",
    "stairs_idx = np.array([nonzero_idx[1, 0]] + [ \n",
    "nonzero_idx[1, k+1]\n",
    "for k in range(len(nonzero_idx[0]) - 1)\n",
    "if nonzero_idx[0][k+1] != nonzero_idx[0][k]\n",
    "])\n",
    "indp_rows = row_matrix[:, stairs_idx].T\n",
    "\n",
    "print(\"Filas linealmente independientes:\")\n",
    "print(row_matrix)\n",
    "print(indp_rows)"
   ]
  },
  {
   "cell_type": "markdown",
   "id": "e644acc9",
   "metadata": {},
   "source": [
    "Este caso sugiere ampliar el alcance de la definición anterior:"
   ]
  },
  {
   "cell_type": "code",
   "execution_count": null,
   "id": "ddeaf56f",
   "metadata": {},
   "outputs": [],
   "source": [
    "def matrix_range(matrix: np.ndarray, give_cols: bool=False, give_rows: bool=False) -> tuple:\n",
    "    \"\"\"\n",
    "    Returns the range of the given matrix. If specified, it also gives the independent\n",
    "    columns and rows of the matrix.\n",
    "\n",
    "    Parameters\n",
    "    ----------\n",
    "    `matrix`: ndarray\n",
    "        2D array representing the matrix we want to study.\n",
    "    `give_cols, give_rows`: bool\n",
    "        If set to True, they give the independent columns and rows of the matrix,\n",
    "        respectively. Default False.\n",
    "\n",
    "    Returns\n",
    "    -------\n",
    "    A tuple with the following objects:\n",
    "\n",
    "    `r`: int\n",
    "        Range value of the matrix.\n",
    "    `indp_cols, indp_rows`: ndarray\n",
    "        2D array of independent columns and rows of the matrix, respectively.\n",
    "    \"\"\"\n",
    "    \n",
    "    # Reduce the given matrix\n",
    "    m, n = matrix.shape\n",
    "    aux_matrix = np.hstack((matrix, np.zeros(m)[:, np.newaxis]))\n",
    "    A, _, stairs, _ = gj_reduction(aux_matrix)\n",
    "\n",
    "    # Give range\n",
    "    r = stairs\n",
    "\n",
    "    results = [r]\n",
    "\n",
    "    # Independent columns\n",
    "    if give_cols:\n",
    "        nonzero_idx = np.asarray(A.nonzero())\n",
    "        stairs_idx = np.array([nonzero_idx[1, 0]] + [\n",
    "            nonzero_idx[1, k+1]\n",
    "            for k in range(len(nonzero_idx[0]) - 1)\n",
    "            if nonzero_idx[0][k+1] != nonzero_idx[0][k]\n",
    "        ])\n",
    "        indp_cols = matrix[:, stairs_idx]\n",
    "        results.append(indp_cols)\n",
    "\n",
    "    # Independent rows\n",
    "    if give_rows:\n",
    "        aux_matrix = matrix.T\n",
    "        aux_matrix = np.hstack((row_matrix, np.zeros(len(row_matrix))[:, np.newaxis]))\n",
    "        A, _, _, _ = gj_reduction(row_matrix)\n",
    "        nonzero_idx = np.asarray(A.nonzero())\n",
    "        stairs_idx = np.array([nonzero_idx[1, 0]] + [\n",
    "            nonzero_idx[1, k+1]\n",
    "            for k in range(len(nonzero_idx[0]) - 1)\n",
    "            if nonzero_idx[0][k+1] != nonzero_idx[0][k]\n",
    "        ])\n",
    "        indp_rows = aux_matrix[:, stairs_idx].T\n",
    "        results.append(indp_rows)\n",
    "    \n",
    "    # Return only range value if no extra info requested, else tuple\n",
    "    if len(results) == 1:\n",
    "        return r\n",
    "    else:\n",
    "        return tuple(results)\n"
   ]
  },
  {
   "cell_type": "markdown",
   "id": "90979b58",
   "metadata": {},
   "source": [
    "Ahora sí tenemos una versión completa de la función anterior. Aplicada al mismo ejemplo:"
   ]
  },
  {
   "cell_type": "code",
   "execution_count": null,
   "id": "13f1bc87",
   "metadata": {},
   "outputs": [
    {
     "data": {
      "text/plain": [
       "(2,\n",
       " array([[1, 2],\n",
       "        [0, 1],\n",
       "        [1, 4]]),\n",
       " array([[1., 2., 3., 4.],\n",
       "        [0., 1., 1., 1.]]))"
      ]
     },
     "metadata": {},
     "output_type": "display_data"
    }
   ],
   "source": [
    "matrix = np.array([[1, 2, 3, 4],\n",
    "                   [0, 1, 1, 1],\n",
    "                   [1, 4, 5, 6]])\n",
    "\n",
    "matrix_range(matrix, give_cols=True, give_rows=True)"
   ]
  },
  {
   "cell_type": "markdown",
   "id": "985aa82e",
   "metadata": {},
   "source": [
    "Evidentemente, los conjuntos de columnas y filas proporcionados por la función no son los únicos. Pueden haber otra combinación de los vectores que también sea linealmente independiente."
   ]
  },
  {
   "cell_type": "markdown",
   "id": "6d93c9ad",
   "metadata": {},
   "source": [
    "\n",
    "Cómo se ha visto, `gj_reduction` es un algoritmo secuencial, por lo que sufrirá de los inconvenientes comunes de estos algoritmos. Sin embargo, representa una primera solución bastante útil para resolver sistemas sencillos: particularmente de números enteros. En el caso que se quiera resolver sistemas con números decimales (con alguna precisión) este algoritmo no es del todo conveniente, ya que haría falta _normalizar_ la matriz en cada paso: esto es, llevar a `0` todos aquellos valores que estén por debajo de la precisión de nuestros datos a medida que realizamos operaciones. Esto ocurre cuando se trabaja con datos que difieren en pocos decimales, o cuando los valores son muy cercanos a cero.\n",
    "\n",
    "Para tener esto en cuenta, realizamos las modificaciones necesarias en la función anterior:"
   ]
  },
  {
   "cell_type": "code",
   "execution_count": 17,
   "id": "35145a20",
   "metadata": {},
   "outputs": [],
   "source": [
    "## Fine-tuning Gauss-Jordan reduction algorithm\n",
    "\n",
    "def ftgj_reduction(coef_matrix: np.ndarray, values: np.ndarray, tol=float) -> tuple:\n",
    "    '''\n",
    "    Uses Gauss-Jordan reduction method to reduce a linear equations system with coefficient matrix \n",
    "    `coef_matrix` (2-D) and independent values `values` (1-D). The parameter `tol` adjusts the\n",
    "    precission of our data: i.e. sets to zero every element of the matrix below that precission.\n",
    "    btw, `ftgj` stands for fine-tuning gauss-jordan.\n",
    "\n",
    "    Parameters\n",
    "    ----------\n",
    "    `coef_matrix`: array_like\n",
    "        2 dimensional array with the coefficients matrix of the system\n",
    "    \n",
    "    `values`: array_like\n",
    "        1 dimensional array with the independent values of the system\n",
    "\n",
    "    Returns\n",
    "    -------\n",
    "    A tuple with the following objects:\n",
    "    \n",
    "        `A`: array_like\n",
    "            Final reduced matrix\n",
    "        \n",
    "        `exp_s`, `coef_s`: int\n",
    "            Both are the number of stairs that the reduced expanded and coefficients matrices have,\n",
    "            respectively. At the same time, both numbers represent the ranges of their correspondig\n",
    "            matrix.\n",
    "            \n",
    "        `n`: int\n",
    "            The number of unknows (variables) of the system\n",
    "    '''\n",
    "\n",
    "    # Merge the matrix and values in one sigle matrix\n",
    "    A = np.hstack((coef_matrix, values[:, np.newaxis]), dtype=float)\n",
    "    m, n = coef_matrix.shape\n",
    "\n",
    "    #We start reducing the matrix\n",
    "\n",
    "    k, l = 0, 0     # Row and column indices\n",
    "\n",
    "    while (k <= m-1) and (l <= n-1):\n",
    "        \n",
    "        print(\"k =\", k, \", l =\", l)\n",
    "\n",
    "        # 0. Fine-Tuning\n",
    "\n",
    "        # Set to 0 everything below our precision\n",
    "        A[np.abs(A) < tol] = 0.\n",
    "        print(\"Etapa 0:\\n\", A)\n",
    "        \n",
    "        # 1. Prepare the rows by switching accordingly\n",
    "\n",
    "        # Select column/row \n",
    "        col = A[k:, l]\n",
    "        row = A[k, l:]\n",
    "\n",
    "        # We find the nonzero values along that column\n",
    "        nonzero_idx = col.nonzero()[0]\n",
    "\n",
    "        # Chek if the column is full of zeros\n",
    "        if nonzero_idx.size == 0: \n",
    "            # Move to the next column if so and skip\n",
    "            l += 1  \n",
    "            continue\n",
    "        \n",
    "        # Find the min value along that column\n",
    "        min_nonzero_idx = nonzero_idx[np.argmin(np.abs(col)[np.abs(col) != 0])] + k\n",
    "\n",
    "        # Switch rows\n",
    "        A[[k, min_nonzero_idx], l:] = A[[min_nonzero_idx, k], l:]\n",
    "\n",
    "        # Make a 1 in the row\n",
    "        A[k, l:] = row / row[0]\n",
    "        print(\"Etapa 1:\\n\", A)\n",
    "\n",
    "        # 2. Perform operations\n",
    "\n",
    "        # Rows that do not match with the selected row\n",
    "        idx = np.arange(m)\n",
    "        idx = idx[idx != k]\n",
    "        \n",
    "        # Block build with previous rows and first coefficients \n",
    "        block = A[idx, l:]\n",
    "        coef = block[:, [0]]\n",
    "\n",
    "        # Row operations\n",
    "        A[idx, l:] = block - coef * row  \n",
    "        print(\"Etapa 2:\\n\", A)\n",
    "        \n",
    "        # 3. Move to the next iteration\n",
    "\n",
    "        k += 1\n",
    "        l += 1\n",
    "    \n",
    "    # Counting stairs of the expanded and coefficients matrix\n",
    "    exp_s = np.unique(A.nonzero()[0]).size \n",
    "    coef_s = np.unique(A[:, :-1].nonzero()[0]).size\n",
    "\n",
    "    # In case we have an undetermined system, we finally reduce the last column\n",
    "    if exp_s != coef_s:\n",
    "        idx = np.arange(m)\n",
    "        A[exp_s-1, n] = 1\n",
    "        A[:, n][idx != exp_s-1] = 0\n",
    "\n",
    "    return A, n, exp_s, coef_s"
   ]
  },
  {
   "cell_type": "markdown",
   "id": "93882c5a",
   "metadata": {},
   "source": [
    "Ahora, consideremos como ejemplo la siguiente matriz:"
   ]
  },
  {
   "cell_type": "code",
   "execution_count": 18,
   "id": "a3cdd73d",
   "metadata": {},
   "outputs": [],
   "source": [
    "matrix = np.array([\n",
    "    [1.234, 2.345, 3.456, 4.567],\n",
    "    [5.678, 6.789, 7.890, 8.901],\n",
    "    [9.012, 8.123, 0.234, 3.345],\n",
    "    [4.456, 5.567, 6.678, 7.789]\n",
    "], dtype=float)"
   ]
  },
  {
   "cell_type": "markdown",
   "id": "7f520502",
   "metadata": {},
   "source": [
    "Se trata de una matriz 4x4 de números con tres decimales de precisión. Si estos datos se correspondieran a medidas realizadas con esta precisión, cualquier número por debajo de 0.01 sería indistinguible de 0. Por tanto, establecemos la precisión a `tol=0.01` y estudiemos cuando se produce la normalización en cada paso:"
   ]
  },
  {
   "cell_type": "code",
   "execution_count": 19,
   "id": "3d92c0f3",
   "metadata": {},
   "outputs": [
    {
     "name": "stdout",
     "output_type": "stream",
     "text": [
      "k = 0 , l = 0\n",
      "Etapa 0:\n",
      " [[1.234 2.345 3.456 4.567]\n",
      " [5.678 6.789 7.89  8.901]\n",
      " [9.012 8.123 0.234 3.345]\n",
      " [4.456 5.567 6.678 7.789]]\n",
      "Etapa 1:\n",
      " [[1.         1.90032415 2.8006483  3.70097245]\n",
      " [5.678      6.789      7.89       8.901     ]\n",
      " [9.012      8.123      0.234      3.345     ]\n",
      " [4.456      5.567      6.678      7.789     ]]\n",
      "Etapa 2:\n",
      " [[  1.           1.90032415   2.8006483    3.70097245]\n",
      " [  0.          -4.00104052  -8.01208104 -12.11312156]\n",
      " [  0.          -9.00272123 -25.00544246 -30.0081637 ]\n",
      " [  0.          -2.90084441  -5.80168882  -8.70253323]]\n",
      "k = 1 , l = 1\n",
      "Etapa 0:\n",
      " [[  1.           1.90032415   2.8006483    3.70097245]\n",
      " [  0.          -4.00104052  -8.01208104 -12.11312156]\n",
      " [  0.          -9.00272123 -25.00544246 -30.0081637 ]\n",
      " [  0.          -2.90084441  -5.80168882  -8.70253323]]\n",
      "Etapa 1:\n",
      " [[  1.           1.90032415   2.8006483    3.70097245]\n",
      " [  0.           1.           2.           3.        ]\n",
      " [  0.          -9.00272123 -25.00544246 -30.0081637 ]\n",
      " [  0.          -4.00104052  -8.01208104 -12.11312156]]\n",
      "Etapa 2:\n",
      " [[ 1.    0.   -1.   -2.  ]\n",
      " [ 0.    1.    2.    3.  ]\n",
      " [ 0.    0.   -7.   -3.  ]\n",
      " [ 0.    0.   -0.01 -0.11]]\n",
      "k = 2 , l = 2\n",
      "Etapa 0:\n",
      " [[ 1.    0.   -1.   -2.  ]\n",
      " [ 0.    1.    2.    3.  ]\n",
      " [ 0.    0.   -7.   -3.  ]\n",
      " [ 0.    0.    0.   -0.11]]\n",
      "Etapa 1:\n",
      " [[ 1.          0.         -1.         -2.        ]\n",
      " [ 0.          1.          2.          3.        ]\n",
      " [ 0.          0.          1.          0.42857143]\n",
      " [ 0.          0.          0.         -0.11      ]]\n",
      "Etapa 2:\n",
      " [[ 1.          0.          0.         -1.57142857]\n",
      " [ 0.          1.          0.          2.14285714]\n",
      " [ 0.          0.          1.          0.42857143]\n",
      " [ 0.          0.          0.         -0.11      ]]\n"
     ]
    },
    {
     "data": {
      "text/plain": [
       "(array([[1., 0., 0., 0.],\n",
       "        [0., 1., 0., 0.],\n",
       "        [0., 0., 1., 0.],\n",
       "        [0., 0., 0., 1.]]),\n",
       " 3,\n",
       " 4,\n",
       " 3)"
      ]
     },
     "execution_count": 19,
     "metadata": {},
     "output_type": "execute_result"
    }
   ],
   "source": [
    "ftgj_reduction(matrix[:,:-1], matrix[:,-1], tol=0.01)"
   ]
  },
  {
   "cell_type": "markdown",
   "id": "cfb69d33",
   "metadata": {},
   "source": [
    "La secuencia nos muestran que, cuando `k=l=2`, la _Etapa 0_ (correspondiente al paso 0 en el bucle) reduce un valor que está por debajo de la precisión a cero: esto se puede ver comparando la _Etapa 2_ del paso `k=l=1` con la _Etapa 0_ del paso `k=l=2`. Esto permite contar valores no nulos (o dentro de la precisión) correctamente cuando pasamos a la _Etapa 1_, donde hacemos uso de la función `np.nonzero()`.\n",
    "\n",
    "**Conclusión**. Usemos `gj_reduction` si nuestros datos no tienen una precisión prefijada, y `ftgj_reduction` en cualquier otro caso. Si se usa la versión _fine-tuning_ se deberá pensar el criterio por el que se fija la precisión de los datos: muy importante, porque la solución cambiará según el valor que se decida dar."
   ]
  },
  {
   "cell_type": "markdown",
   "id": "1d72699b",
   "metadata": {},
   "source": [
    "## Estructura de las soluciones de un sistema"
   ]
  },
  {
   "cell_type": "markdown",
   "id": "465b6aea",
   "metadata": {},
   "source": [
    "Las soluciones de los sistemas de ecuaciones se pueden dar en forma vectorial. Para un sistema de $n$ incógnitas $x_1, x_2, \\dots, x_n$, su _vector solución_ es un vector de $n$ componentes de la forma\n",
    "$$\\vec{x} = (x_1, x_2, \\dots, x_n)$$\n",
    "tal que si nosotros sustituimos los valores $x_i$ por su solución, obtenemos una igualdad en todas sus ecuaciones. Bajo la representación vectorial de la solución de un sistema de ecuaciones, es posible encontrar una descomposición sencilla de la solución. Consideremos un sistema de $m$ ecuaciones y $n$ incógnitas inhomogéneo (caso más general):\n",
    "$$\\left\\{\\begin{aligned}\n",
    "    a_{11} x_1 &+ a_{22} x_2 &+ \\cdots &+ a_{1n} x_n &= b_1 \\\\\n",
    "    a_{21} x_1 &+ a_{22} x_2 &+ \\cdots &+ a_{2n} x_n &= b_2 \\\\\n",
    "    & & \\vdots \\\\\n",
    "    a_{m1} x_1 &+ a_{m2} x_2 &+ \\cdots &+ a_{mn} x_n &= b_m \\\\\n",
    "\\end{aligned}\\right.$$\n",
    "y llamemos su _sistema homogéneo asociado_ al sistema que se genera de anular todos sus términos independientes ($b_i = 0$). Entonces, sabemos que la solución $\\vec{x} = (x_1, x_2, \\dots, x_n)$ del sistema se puede escribir de la siguiente forma\n",
    "$$\\vec{x} = \\vec{u} + \\sum_{i=1}^k c_i \\vec{u}_i$$\n",
    "que se conoce como la _solución general_ del sistema, donde:\n",
    "\n",
    "- $\\vec{u}$ es una solución particular del sistema inhomogéneo.\n",
    "- $\\vec{u}_i$ son todas las soluciones independientes del sistema homogéneo asociado. En total, $k = n - r(A)$ soluciones, siendo $r(A)$ el rango de la matriz de coeficientes del sistema.\n",
    "- $c_i$ son reales cualesquiera.\n",
    "\n",
    "En general, esta descomposición de la solución se obtiene fácilmente si se tiene la matriz escalonada reducida del sistema:\n",
    "\n",
    "- La solución particular $\\vec{u}$ se consigue anulando todas las variables libres del sistema.\n",
    "- Las soluciones independientes $\\vec{u}_i$ se consiguen siguiendo este procedimiento sobre el sistema homogéneo:\n",
    "\n",
    "    1. Se escoge una variable libre.\n",
    "    2. Se anulan todas las variables libres menos la escogida, que toma valor 1.\n",
    "    3. Se guarda la solución obtenida, que sería una de las soluciones independientes.\n",
    "    4. Se repite desde el paso 1, descartando la variable seleccionada en el paso anterior.\n",
    "\n",
    "Evidentemente, solo se tendrá solución para el sistema cuando sea compatible: es decir, cuando $n \\geq r(A) = r(\\bar{A})$, donde $\\bar{A}$ sería la matriz ampliada.\n",
    "\n",
    "Nuestro objetivo es dar un algoritmo que nos proporcione la solución general de un sistema (cuando sea compatible); esto es, el valor de la solución particular y sus soluciones independientes. Para conseguir esto, podemos aprovechar la función `gj_reduction` de la sección anterior, que nos daba \n",
    "- la forma de la matriz escalonada reducida\n",
    "- el número de incógnitas\n",
    "- el rango de la matriz de coeficientes\n",
    "- y el rango de la matriz ampliada\n",
    "\n",
    "Con la información que nos proporciona la función, podemos distinguir directamente si el sistema tiene solución o no: sencillamente comparando los rangos obtenidos. La dificultad radica entonces en conseguir las soluciones $\\vec{u}$ y $\\vec{u}_i$ a partir de la matriz escalonada reducida. "
   ]
  },
  {
   "cell_type": "markdown",
   "id": "6251e821",
   "metadata": {},
   "source": [
    "### Ejemplo"
   ]
  },
  {
   "cell_type": "markdown",
   "id": "1440037d",
   "metadata": {},
   "source": [
    "Antes de dar la función que genera las soluciones directamente, consideremos primero un ejemplo:"
   ]
  },
  {
   "cell_type": "code",
   "execution_count": 2,
   "id": "38992941",
   "metadata": {},
   "outputs": [
    {
     "name": "stdout",
     "output_type": "stream",
     "text": [
      "Sistema a resolver:\n",
      "[[ 1  2  3  4  5]\n",
      " [ 2  4  6  8 10]\n",
      " [ 3  7  9 12 18]\n",
      " [ 4  8 12 16 20]]\n"
     ]
    }
   ],
   "source": [
    "# Matriz de coeficientes\n",
    "coef_matrix = np.array([[1, 2, 3, 4],\n",
    "                        [2, 4, 6, 8],\n",
    "                        [3, 7, 9, 12],\n",
    "                        [4, 8, 12, 16]])\n",
    "\n",
    "# Términos independientes\n",
    "val = np.array([5, 10, 18, 20])\n",
    "\n",
    "# Filas e incógnitas\n",
    "m, n = coef_matrix.shape\n",
    "\n",
    "# Matriz ampliada\n",
    "system = np.hstack((coef_matrix, val[:, np.newaxis]))\n",
    "\n",
    "print(\"Sistema a resolver:\")\n",
    "print(system)\n"
   ]
  },
  {
   "cell_type": "markdown",
   "id": "705aa88c",
   "metadata": {},
   "source": [
    "Se trata de un sistema de 4 ecuaciones y 4 incógnitas. Podemos comprobar que el sistema es compatible indeterminado usando la función `gj_reduction`:"
   ]
  },
  {
   "cell_type": "code",
   "execution_count": 3,
   "id": "7c4ed375",
   "metadata": {},
   "outputs": [
    {
     "name": "stdout",
     "output_type": "stream",
     "text": [
      "Sistema reducido:\n",
      "[[ 1.  0.  3.  4. -1.]\n",
      " [ 0.  1.  0.  0.  3.]\n",
      " [ 0.  0.  0.  0.  0.]\n",
      " [ 0.  0.  0.  0.  0.]]\n",
      "Incógnitas: 4\n",
      "Peldaños de la matriz aumentada: 2\n",
      "Peldaños de la matriz de coeficientes: 2\n"
     ]
    }
   ],
   "source": [
    "A, unknowns, aug_s, coef_s = lak.gj_reduction(system, give_syspar=True)\n",
    "\n",
    "print(\"Sistema reducido:\")\n",
    "print(A)\n",
    "print(\"Incógnitas:\", n)\n",
    "print(\"Peldaños de la matriz aumentada:\", aug_s)\n",
    "print(\"Peldaños de la matriz de coeficientes:\", coef_s)"
   ]
  },
  {
   "cell_type": "markdown",
   "id": "7f0b0a0a",
   "metadata": {},
   "source": [
    "Nuestro objetivo es dar la solución general de este sistema, para lo que tendremos que dar valores a las variables libres para obtener la solución particular, y todas sus soluciones independientes. \n",
    "\n",
    "Este problema se simplifica enormemente si encontramos antes los índices columna en las que se sitúan las variables libres y dependientes. Recordemos que las variables libres son las que no se encuentran en los peldaños de la escalera; las dependientes, en cambio, son las que se sitúan en los peldaños. Esquemáticamente, para la matriz anterior, tendríamos:\n",
    "\n",
    "```markdown\n",
    "v.l = variable libre\n",
    "v.d = variable dependiente\n",
    "t = términos independientes\n",
    "\n",
    "        v.d   v.d  v.l  v.l  t\n",
    "         |     |    |    |   |\n",
    "      [[ 1.,  0.,  3.,  4., -1.],\n",
    "       [ 0.,  1.,  0.,  0.,  3.],\n",
    "       [ 0.,  0.,  0.,  0.,  0.],\n",
    "       [ 0.,  0.,  0.,  0.,  0.]]\n",
    "```\n",
    "\n",
    "Las variables dependientes se sitúan en el primer elemento no nulo de cada fila de la escalera (los peldaños). Los índices podemos encontrarlos de la siguiente forma:"
   ]
  },
  {
   "cell_type": "code",
   "execution_count": 4,
   "id": "64f0086a",
   "metadata": {},
   "outputs": [
    {
     "name": "stdout",
     "output_type": "stream",
     "text": [
      "Índices de las variables dependientes: [0 1]\n",
      "Índices de las variables libres: [2 3]\n"
     ]
    }
   ],
   "source": [
    "# Índices de las variables dependientes (los peldaños)\n",
    "stairs_idx = np.array([\n",
    "    np.argmax(row != 0)         # Índice del primer elemento no nulo del peldaño\n",
    "    for row in A[:coef_s, :-1]  # Nos movemos entre peldaños y sin la columna de términos independientes\n",
    "])\n",
    "\n",
    "#Índices de las variables libres (los que no están en los peldaños)\n",
    "nostairs_idx = np.array([k for k in range(n) if k not in stairs_idx])\n",
    "\n",
    "print(\"Índices de las variables dependientes:\", stairs_idx)\n",
    "print(\"Índices de las variables libres:\", nostairs_idx)\n"
   ]
  },
  {
   "cell_type": "markdown",
   "id": "1085aaf9",
   "metadata": {},
   "source": [
    "Una vez identificados los índices, la solución particular y las soluciones independientes son directas de obtener: tan solo requiere despejar los coeficientes de las variables libres y asignar correctamente los valores de cada variable."
   ]
  },
  {
   "cell_type": "code",
   "execution_count": 5,
   "id": "240cd579",
   "metadata": {},
   "outputs": [
    {
     "name": "stdout",
     "output_type": "stream",
     "text": [
      "Solución particular: [-1.  3.  0.  0.]\n",
      "Soluciones independientes: [array([-3., -0.,  1.,  0.]), array([-4., -0.,  0.,  1.])]\n"
     ]
    }
   ],
   "source": [
    "\n",
    "# 2. Damos la solución particular (variables libres nulas)\n",
    "\n",
    "part_sol = np.zeros(n)\n",
    "values = A[:, -1]   # Térimnos independientes\n",
    "\n",
    "part_sol[stairs_idx] = values[:aug_s] # Asignamos los valores de cada variable\n",
    "\n",
    "# 3. Damos las soluciones independientes (que se generan de anular todas las variables libres menos una)\n",
    "\n",
    "indp_sol = []\n",
    "\n",
    "for free_idx in nostairs_idx:\n",
    "    sol = np.zeros(n)\n",
    "    values = - A[:, free_idx]   # Despejamos la variable libre no nula\n",
    "\n",
    "    sol[stairs_idx] = values[:aug_s]    # Asignamos los valores de cada variable\n",
    "    sol[free_idx] = 1\n",
    "\n",
    "    indp_sol.append(sol)\n",
    "\n",
    "print(\"Solución particular:\", part_sol)\n",
    "print(\"Soluciones independientes:\", indp_sol)\n"
   ]
  },
  {
   "cell_type": "markdown",
   "id": "bb3d3a2b",
   "metadata": {},
   "source": [
    "Cabe resaltar que si nuestro sistema hubiera sido compatible determinado, solo tendríamos una solución particular (sin soluciones independientes). Del mismo modo, si el sistema hubiera sido incompatible, no habría solución que dar."
   ]
  },
  {
   "cell_type": "markdown",
   "id": "e343d4b8",
   "metadata": {},
   "source": [
    "### Implementación"
   ]
  },
  {
   "cell_type": "markdown",
   "id": "b9782ead",
   "metadata": {},
   "source": [
    "Todos los casos de compatibilidad, y la solución general del sistema están implementado en la función `solve` del paquete `linalgkit`:\n",
    "\n",
    "| Función | Parámetros | Retorno | Notas |\n",
    "|---------|------------|---------|-------|\n",
    "| `solve` | - `coef_matrix`: matriz 2D de coeficientes<br>- `values`: vector 1D de términos independientes (opcional, si no se da se asume sistema homogéneo) | - Si el sistema es incompatible: imprime advertencia y retorna None<br>- Si es compatible determinado: retorna solución particular<br>- Si es compatible indeterminado:<br>&nbsp;&nbsp;• sistema no homogéneo: retorna (solución particular, soluciones independientes)<br>&nbsp;&nbsp;• sistema homogéneo: retorna soluciones independientes | - Distingue entre sistemas incompatibles, determinados e indeterminados.<br>- Puede resolver sistemas homogéneos (sin `values`).<br>- Usa reducción de Gauss-Jordan para encontrar soluciones.<br>- Las soluciones independientes corresponden al sistema homogéneo asociado. |"
   ]
  },
  {
   "cell_type": "markdown",
   "id": "43e0a7b7",
   "metadata": {},
   "source": [
    "Para el ejemplo que estudiamos antes tendríamos:"
   ]
  },
  {
   "cell_type": "code",
   "execution_count": 15,
   "id": "99fed385",
   "metadata": {},
   "outputs": [
    {
     "name": "stdout",
     "output_type": "stream",
     "text": [
      "Compatible underdetermined system\n",
      "Solución particular: [-1.  3.  0.  0.]\n",
      "Soluciones independientes: (array([-3., -0.,  1.,  0.]), array([-4., -0.,  0.,  1.]))\n",
      "Comprobación\n",
      "[ True  True  True  True]\n"
     ]
    }
   ],
   "source": [
    "# Matriz de coeficientes\n",
    "coef_matrix = np.array([[1, 2, 3, 4],\n",
    "                        [2, 4, 6, 8],\n",
    "                        [3, 7, 9, 12],\n",
    "                        [4, 8, 12, 16]])\n",
    "\n",
    "# Términos independientes\n",
    "val = np.array([5, 10, 18, 20])\n",
    "\n",
    "part_sol, indp_sol = lak.solve(coef_matrix, val)\n",
    "print(\"Solución particular:\", part_sol)\n",
    "print(\"Soluciones independientes:\", indp_sol)\n",
    "print(\"Comprobación\")\n",
    "print(coef_matrix @ (part_sol + 2*indp_sol[0] + 3*indp_sol[1]) == val)"
   ]
  }
 ],
 "metadata": {
  "kernelspec": {
   "display_name": "Python 3",
   "language": "python",
   "name": "python3"
  },
  "language_info": {
   "codemirror_mode": {
    "name": "ipython",
    "version": 3
   },
   "file_extension": ".py",
   "mimetype": "text/x-python",
   "name": "python",
   "nbconvert_exporter": "python",
   "pygments_lexer": "ipython3",
   "version": "3.11.9"
  }
 },
 "nbformat": 4,
 "nbformat_minor": 5
}
